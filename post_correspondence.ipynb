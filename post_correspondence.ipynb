{
 "cells": [
  {
   "cell_type": "markdown",
   "id": "e2e70a62-3da6-4351-bcb7-e5e92220665e",
   "metadata": {
    "tags": []
   },
   "source": [
    "# Post Correspondence\n",
    "\n",
    "***"
   ]
  },
  {
   "cell_type": "markdown",
   "id": "b3bcc06e-59d7-4565-b2a0-6d9e6698208f",
   "metadata": {},
   "source": [
    "### What is it?"
   ]
  },
  {
   "cell_type": "markdown",
   "id": "94a97fff-0a80-4951-80c0-a767f960b02c",
   "metadata": {},
   "source": [
    "The <b>Post Correspondence Problem</b> is a decision problem. It was first introduced by <b>Emil Post in</b> the year <b>1946</b>. <b>Post Correspondence Problem</b> is often used in <b>proofs of undecidability</b>."
   ]
  },
  {
   "cell_type": "markdown",
   "id": "3d8adbee-188e-4861-a76b-165394f2ec80",
   "metadata": {},
   "source": [
    "It is a helpful <b>tool</b> which is used for <b>proving problems</b> in the <b>logical or formal language theory</b>."
   ]
  },
  {
   "cell_type": "markdown",
   "id": "01182f85-1626-4df7-991b-dafb17ffce39",
   "metadata": {},
   "source": [
    "<br>\n",
    "\n",
    "## Sets\n",
    "\n",
    "***"
   ]
  },
  {
   "cell_type": "code",
   "execution_count": 1,
   "id": "49f675ab-268c-46f5-a544-3977cf517f88",
   "metadata": {},
   "outputs": [],
   "source": [
    "# Alphabet for strings: a set.\n",
    "A = {'a', 'b'}"
   ]
  },
  {
   "cell_type": "code",
   "execution_count": 2,
   "id": "964b52df-59f4-4f90-af6c-98ec4bdb90f9",
   "metadata": {},
   "outputs": [
    {
     "data": {
      "text/plain": [
       "set"
      ]
     },
     "execution_count": 2,
     "metadata": {},
     "output_type": "execute_result"
    }
   ],
   "source": [
    "# Curly braces are often used for sets.\n",
    "type(A)"
   ]
  },
  {
   "cell_type": "code",
   "execution_count": 3,
   "id": "915fdca0-bf9e-4a81-bcad-ad3a6a08b32e",
   "metadata": {},
   "outputs": [
    {
     "data": {
      "text/plain": [
       "True"
      ]
     },
     "execution_count": 3,
     "metadata": {},
     "output_type": "execute_result"
    }
   ],
   "source": [
    "# Sets are unordered.\n",
    "{'a', 'b'} == {'b', 'a'}"
   ]
  },
  {
   "cell_type": "code",
   "execution_count": 4,
   "id": "69e54bf8-463a-4c66-9688-fc3408cd45ec",
   "metadata": {},
   "outputs": [
    {
     "data": {
      "text/plain": [
       "False"
      ]
     },
     "execution_count": 4,
     "metadata": {},
     "output_type": "execute_result"
    }
   ],
   "source": [
    "# FYI, order does matter for lists.\n",
    "['a', 'b'] == ['b', 'a']"
   ]
  },
  {
   "cell_type": "code",
   "execution_count": 5,
   "id": "f1674cf4-ed83-4f99-ab6c-c9d44797c83e",
   "metadata": {},
   "outputs": [
    {
     "data": {
      "text/plain": [
       "{1, 2, 3}"
      ]
     },
     "execution_count": 5,
     "metadata": {},
     "output_type": "execute_result"
    }
   ],
   "source": [
    "# Using the set() function to create a set from a list.\n",
    "set([1,2,3])"
   ]
  },
  {
   "cell_type": "code",
   "execution_count": 6,
   "id": "8013e57d-62e1-48da-8e62-48804fd4b03c",
   "metadata": {},
   "outputs": [
    {
     "data": {
      "text/plain": [
       "{1, 2, 3}"
      ]
     },
     "execution_count": 6,
     "metadata": {},
     "output_type": "execute_result"
    }
   ],
   "source": [
    "# Sets don't keep count.\n",
    "set([3, 2, 2, 1])"
   ]
  },
  {
   "cell_type": "code",
   "execution_count": 7,
   "id": "b3b75031-958d-4314-a0f2-626587d04948",
   "metadata": {},
   "outputs": [
    {
     "data": {
      "text/plain": [
       "True"
      ]
     },
     "execution_count": 7,
     "metadata": {},
     "output_type": "execute_result"
    }
   ],
   "source": [
    "# Test whether or not an item is in the set.\n",
    "1 in {1, 2, 3}"
   ]
  },
  {
   "cell_type": "code",
   "execution_count": 8,
   "id": "ba5dc433-c4a6-4aa8-8ebf-ef4c1e5b53d8",
   "metadata": {},
   "outputs": [
    {
     "data": {
      "text/plain": [
       "False"
      ]
     },
     "execution_count": 8,
     "metadata": {},
     "output_type": "execute_result"
    }
   ],
   "source": [
    "'a' in {1, 2, 3}"
   ]
  },
  {
   "cell_type": "markdown",
   "id": "a6d8faba-f335-490b-9e74-ea356b83b97b",
   "metadata": {},
   "source": [
    "When a set is defined, it gives rise to a decision problem.\n",
    "\n",
    "The decision problem is: is a given item in the set?"
   ]
  },
  {
   "cell_type": "markdown",
   "id": "59c3a6c4-181e-40c4-9906-afc01a072174",
   "metadata": {},
   "source": [
    "<br>\n",
    "\n",
    "## Tuples\n",
    "\n",
    "***"
   ]
  },
  {
   "cell_type": "code",
   "execution_count": 9,
   "id": "78f662e3-a3c4-4b94-9d13-0c2037420920",
   "metadata": {},
   "outputs": [
    {
     "data": {
      "text/plain": [
       "[1, 2, 3]"
      ]
     },
     "execution_count": 9,
     "metadata": {},
     "output_type": "execute_result"
    }
   ],
   "source": [
    "# List.\n",
    "[1,2,3]"
   ]
  },
  {
   "cell_type": "code",
   "execution_count": 10,
   "id": "dc364605-09ea-4740-8d4e-2e3f32c36f13",
   "metadata": {},
   "outputs": [
    {
     "data": {
      "text/plain": [
       "list"
      ]
     },
     "execution_count": 10,
     "metadata": {},
     "output_type": "execute_result"
    }
   ],
   "source": [
    "# Type.\n",
    "type([1,2,3])"
   ]
  },
  {
   "cell_type": "code",
   "execution_count": 11,
   "id": "dca0924e-9a25-4ccb-b10a-edec53fe1d52",
   "metadata": {},
   "outputs": [
    {
     "data": {
      "text/plain": [
       "(1, 2, 3)"
      ]
     },
     "execution_count": 11,
     "metadata": {},
     "output_type": "execute_result"
    }
   ],
   "source": [
    "# Tuple.\n",
    "(1, 2, 3)"
   ]
  },
  {
   "cell_type": "code",
   "execution_count": 12,
   "id": "0d9fbe2b-fdd4-442c-8006-f6c13567a793",
   "metadata": {},
   "outputs": [
    {
     "data": {
      "text/plain": [
       "tuple"
      ]
     },
     "execution_count": 12,
     "metadata": {},
     "output_type": "execute_result"
    }
   ],
   "source": [
    "# Tuple.\n",
    "type((1, 2, 3))"
   ]
  },
  {
   "cell_type": "code",
   "execution_count": 13,
   "id": "390ef7e1-605f-4d85-8648-5fca1ad166aa",
   "metadata": {},
   "outputs": [],
   "source": [
    "# Create a list.\n",
    "l = [1,2,3]"
   ]
  },
  {
   "cell_type": "code",
   "execution_count": 14,
   "id": "c61fb23a-e1db-4d93-b53e-793438dc694b",
   "metadata": {},
   "outputs": [],
   "source": [
    "# Reassign an element.\n",
    "l[1] = 4"
   ]
  },
  {
   "cell_type": "code",
   "execution_count": 15,
   "id": "980f44f6-ebd8-47af-9f44-add2a6d122c0",
   "metadata": {},
   "outputs": [
    {
     "data": {
      "text/plain": [
       "[1, 4, 3]"
      ]
     },
     "execution_count": 15,
     "metadata": {},
     "output_type": "execute_result"
    }
   ],
   "source": [
    "# The element is reassigned.\n",
    "l"
   ]
  },
  {
   "cell_type": "code",
   "execution_count": 16,
   "id": "4b447b1c-ceaf-44e4-b4f4-fb5371f6430f",
   "metadata": {},
   "outputs": [],
   "source": [
    "# Create a tuple.\n",
    "t = (1, 2, 3)"
   ]
  },
  {
   "cell_type": "code",
   "execution_count": 17,
   "id": "4d700ae1-3501-4aaf-8508-8081e0743e64",
   "metadata": {},
   "outputs": [
    {
     "data": {
      "text/plain": [
       "529344067295497451"
      ]
     },
     "execution_count": 17,
     "metadata": {},
     "output_type": "execute_result"
    }
   ],
   "source": [
    "# Can hash a tuple.\n",
    "hash(t)"
   ]
  },
  {
   "cell_type": "code",
   "execution_count": 18,
   "id": "4fcdaa15-e78a-4759-bc2a-051b9310e48f",
   "metadata": {},
   "outputs": [
    {
     "data": {
      "text/plain": [
       "'0x7589b9fe71bcceb'"
      ]
     },
     "execution_count": 18,
     "metadata": {},
     "output_type": "execute_result"
    }
   ],
   "source": [
    "# Usual output from a hash function is in hex.\n",
    "hex(hash(t))"
   ]
  },
  {
   "cell_type": "code",
   "execution_count": 19,
   "id": "8f0466f2-4a37-47ad-96da-f9672ccc6e3b",
   "metadata": {},
   "outputs": [
    {
     "data": {
      "text/plain": [
       "3"
      ]
     },
     "execution_count": 19,
     "metadata": {},
     "output_type": "execute_result"
    }
   ],
   "source": [
    "# You can use tuples as dictionary keys.\n",
    "D = {(1,2,3): 3, (1,2): 2}\n",
    "D[(1,2,3)]"
   ]
  },
  {
   "cell_type": "code",
   "execution_count": 20,
   "id": "9758ce38-6ba0-4143-b709-c1c8eaa60340",
   "metadata": {},
   "outputs": [],
   "source": [
    "# Tuples can be used for assignment - you don't have to use round brackets.\n",
    "a, b = 1, 2"
   ]
  },
  {
   "cell_type": "code",
   "execution_count": 21,
   "id": "92e5c627-eae8-457f-ab71-58e300011fcd",
   "metadata": {},
   "outputs": [
    {
     "data": {
      "text/plain": [
       "1"
      ]
     },
     "execution_count": 21,
     "metadata": {},
     "output_type": "execute_result"
    }
   ],
   "source": [
    "a"
   ]
  },
  {
   "cell_type": "code",
   "execution_count": 22,
   "id": "6876a9a5-1fbb-40f9-bce2-a7e7a62c66b4",
   "metadata": {},
   "outputs": [
    {
     "data": {
      "text/plain": [
       "2"
      ]
     },
     "execution_count": 22,
     "metadata": {},
     "output_type": "execute_result"
    }
   ],
   "source": [
    "b"
   ]
  },
  {
   "cell_type": "code",
   "execution_count": 23,
   "id": "f68f71ae-7074-4bb4-8810-deb4f997b371",
   "metadata": {},
   "outputs": [
    {
     "data": {
      "text/plain": [
       "{1, 2, 3}"
      ]
     },
     "execution_count": 23,
     "metadata": {},
     "output_type": "execute_result"
    }
   ],
   "source": [
    "# Some contexts require the round brackets.\n",
    "set((1, 2, 3))"
   ]
  },
  {
   "cell_type": "code",
   "execution_count": 24,
   "id": "9f84fb15-a850-49f1-a6a6-eae4360e9da6",
   "metadata": {},
   "outputs": [
    {
     "data": {
      "text/plain": [
       "{1, 2, 3}"
      ]
     },
     "execution_count": 24,
     "metadata": {},
     "output_type": "execute_result"
    }
   ],
   "source": [
    "# Some contexts require the round brackets.\n",
    "set((1, 2, 3))"
   ]
  },
  {
   "cell_type": "markdown",
   "id": "27a46793-8d9a-49d4-a774-b04795f19c1a",
   "metadata": {},
   "source": [
    "<br>\n",
    "\n",
    "## The Problem\n",
    "\n",
    "***"
   ]
  },
  {
   "cell_type": "code",
   "execution_count": 25,
   "id": "2cffd455-4af7-4874-9fbf-2ce04cbcf952",
   "metadata": {},
   "outputs": [],
   "source": [
    "# A and B for quicker assignment\n",
    "a = 'a'\n",
    "b = 'b'"
   ]
  },
  {
   "cell_type": "code",
   "execution_count": 26,
   "id": "2e37ed6f-f4db-4063-8cb5-8b46955e2951",
   "metadata": {},
   "outputs": [],
   "source": [
    "# First list.\n",
    "L1 = ((a,), (a, b), (b, b, a))"
   ]
  },
  {
   "cell_type": "code",
   "execution_count": 27,
   "id": "0b28a095-d455-4ae2-8fd3-08321a47efb3",
   "metadata": {},
   "outputs": [
    {
     "data": {
      "text/plain": [
       "(('a',), ('a', 'b'), ('b', 'b', 'a'))"
      ]
     },
     "execution_count": 27,
     "metadata": {},
     "output_type": "execute_result"
    }
   ],
   "source": [
    "# Display the first List\n",
    "L1"
   ]
  },
  {
   "cell_type": "code",
   "execution_count": 28,
   "id": "5e352b8a-7d61-4af6-af40-766e445a9587",
   "metadata": {},
   "outputs": [],
   "source": [
    "# Second list.\n",
    "L2 = ((b, a, a), (a, a), (b, b))"
   ]
  },
  {
   "cell_type": "code",
   "execution_count": 29,
   "id": "5949c407-efe6-484f-8d4e-1408e4c29869",
   "metadata": {},
   "outputs": [
    {
     "data": {
      "text/plain": [
       "(('b', 'a', 'a'), ('a', 'a'), ('b', 'b'))"
      ]
     },
     "execution_count": 29,
     "metadata": {},
     "output_type": "execute_result"
    }
   ],
   "source": [
    "# Display the second list\n",
    "L2"
   ]
  },
  {
   "cell_type": "code",
   "execution_count": 30,
   "id": "ab549eeb-8000-4a86-be93-366366f28690",
   "metadata": {},
   "outputs": [],
   "source": [
    "# A proposed solution.\n",
    "S = (2, 1, 2, 0)"
   ]
  },
  {
   "cell_type": "code",
   "execution_count": 31,
   "id": "1cc609a1-38e7-48d2-8052-2702572f325f",
   "metadata": {},
   "outputs": [],
   "source": [
    "# Apply the proposed solution to a tuple.\n",
    "def apply(S, L):\n",
    "    S_on_L = [''.join(L[i]) for i in S]\n",
    "    return ''.join(S_on_L)"
   ]
  },
  {
   "cell_type": "code",
   "execution_count": 32,
   "id": "03cab702-1bd9-4cfd-99ee-d4d2ac121b36",
   "metadata": {},
   "outputs": [
    {
     "data": {
      "text/plain": [
       "'bbaabbbaa'"
      ]
     },
     "execution_count": 32,
     "metadata": {},
     "output_type": "execute_result"
    }
   ],
   "source": [
    "# Apply S to L1.\n",
    "apply(S, L1)"
   ]
  },
  {
   "cell_type": "code",
   "execution_count": 33,
   "id": "e7040c83-4e6a-4aab-867f-0eff7945bd49",
   "metadata": {},
   "outputs": [
    {
     "data": {
      "text/plain": [
       "'bbaabbbaa'"
      ]
     },
     "execution_count": 33,
     "metadata": {},
     "output_type": "execute_result"
    }
   ],
   "source": [
    "# Apply S to L2.\n",
    "apply(S, L2)"
   ]
  },
  {
   "cell_type": "code",
   "execution_count": 34,
   "id": "f1d5c415-1e36-470b-bd5e-bfb04a916af3",
   "metadata": {},
   "outputs": [
    {
     "data": {
      "text/plain": [
       "True"
      ]
     },
     "execution_count": 34,
     "metadata": {},
     "output_type": "execute_result"
    }
   ],
   "source": [
    "# Get Python to check if the proposed solution is a solution.\n",
    "apply(S, L1) == apply(S, L2)"
   ]
  },
  {
   "cell_type": "code",
   "execution_count": 35,
   "id": "33ebabcd-a4b4-4c41-ae43-2bde55e5549b",
   "metadata": {},
   "outputs": [
    {
     "data": {
      "text/plain": [
       "'bbaabbbaabbaabbbaa'"
      ]
     },
     "execution_count": 35,
     "metadata": {},
     "output_type": "execute_result"
    }
   ],
   "source": [
    "# Another solution - there are infinitely many.\n",
    "apply((2, 1, 2, 0, 2, 1, 2, 0), L1)"
   ]
  },
  {
   "cell_type": "code",
   "execution_count": 36,
   "id": "5320d6cf-af32-437f-a2fd-fc5e01711593",
   "metadata": {},
   "outputs": [
    {
     "data": {
      "text/plain": [
       "'bbaabbbaabbaabbbaa'"
      ]
     },
     "execution_count": 36,
     "metadata": {},
     "output_type": "execute_result"
    }
   ],
   "source": [
    "# Another solution - there are infinitely many.\n",
    "apply((2, 1, 2, 0, 2, 1, 2, 0), L2)"
   ]
  },
  {
   "cell_type": "markdown",
   "id": "e1673c2f-e488-452e-a4f0-fe6600c35bcf",
   "metadata": {},
   "source": [
    "<br>\n",
    "\n",
    "## No correspondence\n",
    "\n",
    "***"
   ]
  },
  {
   "cell_type": "code",
   "execution_count": 37,
   "id": "c048c20b-87bc-407e-97f5-661c42298840",
   "metadata": {},
   "outputs": [],
   "source": [
    "# First List\n",
    "L1 = ((a, b), (b, b, a))"
   ]
  },
  {
   "cell_type": "code",
   "execution_count": 38,
   "id": "3cb1a427-22aa-43a3-a202-82f9f528897c",
   "metadata": {},
   "outputs": [],
   "source": [
    "# Second List\n",
    "L2 = ((a, a), (b, b))"
   ]
  },
  {
   "cell_type": "code",
   "execution_count": 39,
   "id": "3232074b-4876-4fb9-8715-057c700bfc0b",
   "metadata": {},
   "outputs": [],
   "source": [
    "#S = ?"
   ]
  },
  {
   "cell_type": "code",
   "execution_count": 40,
   "id": "6ceaf098-73b6-4bab-a4ac-23547df2b1e4",
   "metadata": {},
   "outputs": [],
   "source": [
    "# possibles = ((0,), (1,), (0,0), (0, 1), (1, 0), (1,1), (0,0,0), (0,0,1), (0,1,0), ...)"
   ]
  },
  {
   "cell_type": "markdown",
   "id": "ec129d02-cdb7-4079-b9d6-58371a04c1e4",
   "metadata": {},
   "source": [
    "$$ (L_1, L_2) \\rightarrow \\{True, False\\} \\qquad |L_1| = |L_2| $$"
   ]
  },
  {
   "cell_type": "markdown",
   "id": "d8c3b895-2319-484d-81bc-a917a95992fb",
   "metadata": {},
   "source": [
    "<br>\n",
    "\n",
    "## Bounded PCP\n",
    "\n",
    "***"
   ]
  },
  {
   "cell_type": "markdown",
   "id": "7ed4c73a-554f-45c5-8223-e2ee1430066d",
   "metadata": {},
   "source": [
    "### What is it?\n",
    "\n",
    "<b>The Bounded Post Correspondence Problem</b> is <b>one of the most important variants</b> of Post Correpondence Problem. Its <b>goal</b> is to see if we can <b>find a match</b> using no more than <b>$K$ tiles</b>, this includes the <b>repeated tiles</b>."
   ]
  },
  {
   "cell_type": "markdown",
   "id": "b83c2a68-ecc9-462b-8c5e-30edf4b3a1ac",
   "metadata": {},
   "source": [
    "$$ |S| \\leq K \\qquad K \\in \\mathbb{N} $$"
   ]
  },
  {
   "cell_type": "code",
   "execution_count": 41,
   "id": "183e6825-ab83-4b6d-b4e7-b214ea285d6b",
   "metadata": {},
   "outputs": [],
   "source": [
    "# Write a solver for the bounded version.\n",
    "def bpcp_solver(L1, L2, K):\n",
    "    if correspond(L1, L2, K):\n",
    "        return True\n",
    "    else:\n",
    "        return False\n",
    "    \n",
    "# Correspond needs to state whether a solution S of max length K exists.\n",
    "def correspond(L1, L2, K):\n",
    "    # Your algorithm here.\n",
    "    return True if solution else False"
   ]
  },
  {
   "cell_type": "markdown",
   "id": "b08b44b0-f6dd-4df5-9aa9-6a65a94958d4",
   "metadata": {},
   "source": [
    "<br>\n",
    "\n",
    "# Itertools\n",
    "\n",
    "***"
   ]
  },
  {
   "cell_type": "code",
   "execution_count": 42,
   "id": "83578e42-0bd8-42d2-8752-47248d5ef069",
   "metadata": {},
   "outputs": [],
   "source": [
    "# A very useful module in the Python standard library.\n",
    "import itertools as it"
   ]
  },
  {
   "cell_type": "code",
   "execution_count": 43,
   "id": "591b840d-2030-4bff-b0d8-ee6772b49f34",
   "metadata": {},
   "outputs": [
    {
     "data": {
      "text/plain": [
       "[('A', 'B'), ('A', 'C'), ('B', 'A'), ('B', 'C'), ('C', 'A'), ('C', 'B')]"
      ]
     },
     "execution_count": 43,
     "metadata": {},
     "output_type": "execute_result"
    }
   ],
   "source": [
    "# Permutations.\n",
    "list(it.permutations('ABC', 2))"
   ]
  },
  {
   "cell_type": "code",
   "execution_count": 44,
   "id": "c9a574e2-902e-4b1a-b310-8ed04aa4524e",
   "metadata": {},
   "outputs": [
    {
     "data": {
      "text/plain": [
       "[('A', 'B'), ('A', 'C'), ('B', 'C')]"
      ]
     },
     "execution_count": 44,
     "metadata": {},
     "output_type": "execute_result"
    }
   ],
   "source": [
    "# Combinations.\n",
    "list(it.combinations('ABC', 2))"
   ]
  },
  {
   "cell_type": "code",
   "execution_count": 45,
   "id": "edd8b895-4b07-4f47-a32a-f7bf379d42e2",
   "metadata": {},
   "outputs": [
    {
     "data": {
      "text/plain": [
       "[('A', 'A'),\n",
       " ('A', 'B'),\n",
       " ('A', 'C'),\n",
       " ('A', 'D'),\n",
       " ('B', 'A'),\n",
       " ('B', 'B'),\n",
       " ('B', 'C'),\n",
       " ('B', 'D'),\n",
       " ('C', 'A'),\n",
       " ('C', 'B'),\n",
       " ('C', 'C'),\n",
       " ('C', 'D'),\n",
       " ('D', 'A'),\n",
       " ('D', 'B'),\n",
       " ('D', 'C'),\n",
       " ('D', 'D')]"
      ]
     },
     "execution_count": 45,
     "metadata": {},
     "output_type": "execute_result"
    }
   ],
   "source": [
    "# Product.\n",
    "list(it.product('ABCD', 'ABCD'))"
   ]
  },
  {
   "cell_type": "code",
   "execution_count": 46,
   "id": "34bf255d-ef25-4b7e-b1de-26b6757257af",
   "metadata": {},
   "outputs": [
    {
     "data": {
      "text/plain": [
       "[(0, 0, 0),\n",
       " (0, 0, 1),\n",
       " (0, 1, 0),\n",
       " (0, 1, 1),\n",
       " (1, 0, 0),\n",
       " (1, 0, 1),\n",
       " (1, 1, 0),\n",
       " (1, 1, 1)]"
      ]
     },
     "execution_count": 46,
     "metadata": {},
     "output_type": "execute_result"
    }
   ],
   "source": [
    "list(it.product(range(len(L1)), range(len(L1)), range(len(L1))))"
   ]
  },
  {
   "cell_type": "code",
   "execution_count": 47,
   "id": "da03a771-4504-4fe0-a943-bec78be28853",
   "metadata": {},
   "outputs": [
    {
     "name": "stdout",
     "output_type": "stream",
     "text": [
      "(0,)\n",
      "(1,)\n",
      "(0, 0)\n",
      "(0, 1)\n",
      "(1, 0)\n",
      "(1, 1)\n",
      "(0, 0, 0)\n",
      "(0, 0, 1)\n",
      "(0, 1, 0)\n",
      "(0, 1, 1)\n",
      "(1, 0, 0)\n",
      "(1, 0, 1)\n",
      "(1, 1, 0)\n",
      "(1, 1, 1)\n",
      "(0, 0, 0, 0)\n",
      "(0, 0, 0, 1)\n",
      "(0, 0, 1, 0)\n",
      "(0, 0, 1, 1)\n",
      "(0, 1, 0, 0)\n",
      "(0, 1, 0, 1)\n",
      "(0, 1, 1, 0)\n",
      "(0, 1, 1, 1)\n",
      "(1, 0, 0, 0)\n",
      "(1, 0, 0, 1)\n",
      "(1, 0, 1, 0)\n",
      "(1, 0, 1, 1)\n",
      "(1, 1, 0, 0)\n",
      "(1, 1, 0, 1)\n",
      "(1, 1, 1, 0)\n",
      "(1, 1, 1, 1)\n"
     ]
    }
   ],
   "source": [
    "# The bound for the bounded problem.\n",
    "K = 4\n",
    "\n",
    "# The generators.\n",
    "gens = []\n",
    "\n",
    "# Loop through all possible solutions.\n",
    "for i in range(1, K + 1):\n",
    "    # Create a generator for solutions of length i, append it to gens.\n",
    "    gens.append(it.product(*([range(len(L1))] * i)))\n",
    "\n",
    "# it.chain just chains generators together.\n",
    "for solution in it.chain(*gens):\n",
    "    print(solution)"
   ]
  },
  {
   "cell_type": "code",
   "execution_count": 48,
   "id": "6bbd87fb-f4ae-4204-a148-c50367629fd3",
   "metadata": {},
   "outputs": [
    {
     "name": "stdout",
     "output_type": "stream",
     "text": [
      "[1, 2, 3]\n"
     ]
    }
   ],
   "source": [
    "# Print a list of three elements.\n",
    "print([1,2,3])"
   ]
  },
  {
   "cell_type": "code",
   "execution_count": 49,
   "id": "c4d2af3f-1609-4c63-adb9-c485e887cc70",
   "metadata": {},
   "outputs": [
    {
     "name": "stdout",
     "output_type": "stream",
     "text": [
      "1 2 3\n"
     ]
    }
   ],
   "source": [
    "# Print the elements of the list - print gets three parameters/arguments.\n",
    "print(*[1,2,3])"
   ]
  },
  {
   "cell_type": "markdown",
   "id": "7261d654-43b0-4826-92b5-24e5a2464bac",
   "metadata": {},
   "source": [
    "***\n",
    "\n",
    "<br>\n",
    "\n",
    "# References\n"
   ]
  },
  {
   "cell_type": "markdown",
   "id": "cbe37eb2-cb60-44be-bc87-a243d2852d94",
   "metadata": {
    "tags": []
   },
   "source": [
    "### Post Correspondence Problem\n",
    "\n",
    "***"
   ]
  },
  {
   "cell_type": "markdown",
   "id": "a81b1930-0da4-4341-9061-96b1820012fa",
   "metadata": {},
   "source": [
    "#### What is it?\n",
    "\n",
    "https://en.wikipedia.org/wiki/Post_correspondence_problem\n",
    "<br>\n",
    "https://www.cis.upenn.edu/~jean/gbooks/PCPh04.pdf"
   ]
  },
  {
   "cell_type": "markdown",
   "id": "0c5259a2-49b9-4692-a215-d9acf3eb8767",
   "metadata": {},
   "source": [
    "#### Sets\n",
    "\n",
    "https://docs.python.org/3/tutorial/datastructures.html#sets"
   ]
  },
  {
   "cell_type": "markdown",
   "id": "b307cb09-cd73-4105-89db-6e6e6574b9fd",
   "metadata": {},
   "source": [
    "#### Tuples\n",
    "\n",
    "https://docs.python.org/3/tutorial/datastructures.html#tuples-and-sequences"
   ]
  },
  {
   "cell_type": "markdown",
   "id": "67b467a9-62a7-4121-8b34-f03d33152706",
   "metadata": {},
   "source": [
    "<br>\n",
    "\n",
    "### Bounded Post Correspondence Problem\n",
    "\n",
    "***"
   ]
  },
  {
   "cell_type": "markdown",
   "id": "9acaddf1-8023-4d6f-8239-0a787d0c2625",
   "metadata": {},
   "source": [
    "#### What is it?\n",
    "\n",
    "https://en.wikipedia.org/wiki/Post_correspondence_problem"
   ]
  },
  {
   "cell_type": "markdown",
   "id": "ec562cd3-e6c2-4d34-9e45-39eb00cffa28",
   "metadata": {},
   "source": [
    "#### Itertools\n",
    "\n",
    "https://realpython.com/python-itertools/"
   ]
  },
  {
   "cell_type": "markdown",
   "id": "b0d7b2a3-bbaf-40a6-ab8f-2d3b2cabe988",
   "metadata": {},
   "source": [
    "<br>\n",
    "\n",
    "***\n",
    "\n",
    "# END"
   ]
  }
 ],
 "metadata": {
  "kernelspec": {
   "display_name": "Python 3 (ipykernel)",
   "language": "python",
   "name": "python3"
  },
  "language_info": {
   "codemirror_mode": {
    "name": "ipython",
    "version": 3
   },
   "file_extension": ".py",
   "mimetype": "text/x-python",
   "name": "python",
   "nbconvert_exporter": "python",
   "pygments_lexer": "ipython3",
   "version": "3.9.7"
  }
 },
 "nbformat": 4,
 "nbformat_minor": 5
}
