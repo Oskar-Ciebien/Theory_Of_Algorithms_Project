{
 "cells": [
  {
   "cell_type": "markdown",
   "id": "e2e70a62-3da6-4351-bcb7-e5e92220665e",
   "metadata": {
    "tags": []
   },
   "source": [
    "# Post Correspondence\n",
    "\n",
    "***"
   ]
  },
  {
   "cell_type": "markdown",
   "id": "b3bcc06e-59d7-4565-b2a0-6d9e6698208f",
   "metadata": {},
   "source": [
    "### What is it?\n",
    "\n",
    "***"
   ]
  },
  {
   "cell_type": "markdown",
   "id": "94a97fff-0a80-4951-80c0-a767f960b02c",
   "metadata": {},
   "source": [
    "The <b>Post Correspondence Problem</b> is an undecidable decision problem. It was first introduced by <b>Emil Post in</b> the year <b>1946</b>. <b>Post Correspondence Problem</b> is often used in <b>proofs of undecidability</b>."
   ]
  },
  {
   "cell_type": "markdown",
   "id": "3d8adbee-188e-4861-a76b-165394f2ec80",
   "metadata": {},
   "source": [
    "It is a helpful <b>tool</b> which is used for <b>proving problems</b> in the <b>logical or formal language theory</b>."
   ]
  },
  {
   "cell_type": "markdown",
   "id": "1ff086e3-3bbf-4a28-a6a3-b66032baed26",
   "metadata": {},
   "source": [
    "<br>\n",
    "\n",
    "### What is an undecidable decision problem?\n",
    "\n",
    "***"
   ]
  },
  {
   "cell_type": "markdown",
   "id": "97a161e0-0ac8-4bb1-bc56-3a0c36541590",
   "metadata": {},
   "source": [
    "An undecidable decision problem is a type of a decision problem where it is proven to be impossible to make an algorithm that would always end up with a yes or no answer.\n",
    "\n",
    "<br>\n",
    "\n",
    "There is an example of an undecidable decision problem under the [no correspondence](#no-correspondence) heading."
   ]
  },
  {
   "cell_type": "markdown",
   "id": "1365fdfb-5346-455a-8a68-c601d31bfb69",
   "metadata": {},
   "source": [
    "<br>\n",
    "\n",
    "### What is a decision problem?\n",
    "\n",
    "***"
   ]
  },
  {
   "cell_type": "markdown",
   "id": "2df51d5c-46ef-4531-8ac1-3bfcac236af3",
   "metadata": {},
   "source": [
    "A decision problem is a type of problem where it can be used as a yes or no answer to a question with given input values. A simple example of a decision problem would be *\"given two numbers x and y, does x evenly divide y?\"*, this type of question can only get a yes or no answer, therefore it's a decision problem."
   ]
  },
  {
   "cell_type": "markdown",
   "id": "b6078580-735e-496f-a5a0-ab676f4bdddb",
   "metadata": {},
   "source": [
    "<br>\n",
    "\n",
    "### How to solve a decision problem?\n",
    "\n",
    "***"
   ]
  },
  {
   "cell_type": "markdown",
   "id": "590b966e-a952-46eb-996a-5b869b482e9a",
   "metadata": {},
   "source": [
    "The approach used to solve a decision problem has to be in the form of an algorithm. This approach is called the **decision procedure**. Taken the above mentioned example *\"given two numbers x and y, does x evenly divide y?\"*, the decision procedure would give the steps to solve this example."
   ]
  },
  {
   "cell_type": "markdown",
   "id": "f3df1978-d90c-4b95-93c4-c70582c55656",
   "metadata": {},
   "source": [
    "<br>\n",
    "\n",
    "## What can be used to store the values?\n",
    "\n",
    "***"
   ]
  },
  {
   "cell_type": "markdown",
   "id": "5a4bb5b2-f844-4d72-bc08-a6cb303cfab0",
   "metadata": {},
   "source": [
    "To solve this problem in Python. There is a few things that can use. Most importantly there has to be a way to store the dominos or tiles. The tiles or dominos that **will have to be stored** in some list. The use of **Sets and Tuples** are described below."
   ]
  },
  {
   "cell_type": "markdown",
   "id": "ace1ad07-773f-40de-953e-5c73deeb45ca",
   "metadata": {},
   "source": [
    "<div align=\"center\">\n",
    "    \n",
    "<img src=\"https://media.geeksforgeeks.org/wp-content/uploads/20200525173708/dominos.jpg\" alt=\"Post Correspondence Image\" width=\"600px\"/>\n",
    "\n",
    "</div>\n",
    "\n",
    "Adapted from [GeeksForGeeks](https://www.geeksforgeeks.org/post-correspondence-problem/)"
   ]
  },
  {
   "cell_type": "markdown",
   "id": "01182f85-1626-4df7-991b-dafb17ffce39",
   "metadata": {},
   "source": [
    "<br>\n",
    "\n",
    "### Sets\n",
    "\n",
    "***"
   ]
  },
  {
   "cell_type": "code",
   "execution_count": 1,
   "id": "49f675ab-268c-46f5-a544-3977cf517f88",
   "metadata": {},
   "outputs": [],
   "source": [
    "# Alphabet for strings: a set.\n",
    "A = {'a', 'b'}"
   ]
  },
  {
   "cell_type": "code",
   "execution_count": 2,
   "id": "964b52df-59f4-4f90-af6c-98ec4bdb90f9",
   "metadata": {},
   "outputs": [
    {
     "data": {
      "text/plain": [
       "set"
      ]
     },
     "execution_count": 2,
     "metadata": {},
     "output_type": "execute_result"
    }
   ],
   "source": [
    "# Curly braces are often used for sets.\n",
    "type(A)"
   ]
  },
  {
   "cell_type": "code",
   "execution_count": 3,
   "id": "7b1c200a-53fd-42bc-bc92-c4c1bbebd9b3",
   "metadata": {},
   "outputs": [
    {
     "data": {
      "text/plain": [
       "{'a', 'b'}"
      ]
     },
     "execution_count": 3,
     "metadata": {},
     "output_type": "execute_result"
    }
   ],
   "source": [
    "# Display A\n",
    "A"
   ]
  },
  {
   "cell_type": "code",
   "execution_count": 4,
   "id": "915fdca0-bf9e-4a81-bcad-ad3a6a08b32e",
   "metadata": {},
   "outputs": [
    {
     "data": {
      "text/plain": [
       "True"
      ]
     },
     "execution_count": 4,
     "metadata": {},
     "output_type": "execute_result"
    }
   ],
   "source": [
    "# Sets are unordered.\n",
    "{'a', 'b'} == {'b', 'a'}"
   ]
  },
  {
   "cell_type": "code",
   "execution_count": 5,
   "id": "69e54bf8-463a-4c66-9688-fc3408cd45ec",
   "metadata": {},
   "outputs": [
    {
     "data": {
      "text/plain": [
       "False"
      ]
     },
     "execution_count": 5,
     "metadata": {},
     "output_type": "execute_result"
    }
   ],
   "source": [
    "# FYI, order does matter for lists.\n",
    "['a', 'b'] == ['b', 'a']"
   ]
  },
  {
   "cell_type": "code",
   "execution_count": 6,
   "id": "f1674cf4-ed83-4f99-ab6c-c9d44797c83e",
   "metadata": {},
   "outputs": [
    {
     "data": {
      "text/plain": [
       "{1, 2, 3}"
      ]
     },
     "execution_count": 6,
     "metadata": {},
     "output_type": "execute_result"
    }
   ],
   "source": [
    "# Using the set() function to create a set from a list.\n",
    "set([1,2,3])"
   ]
  },
  {
   "cell_type": "code",
   "execution_count": 7,
   "id": "8013e57d-62e1-48da-8e62-48804fd4b03c",
   "metadata": {},
   "outputs": [
    {
     "data": {
      "text/plain": [
       "{1, 2, 3}"
      ]
     },
     "execution_count": 7,
     "metadata": {},
     "output_type": "execute_result"
    }
   ],
   "source": [
    "# Sets don't keep count.\n",
    "set([3, 2, 2, 1])"
   ]
  },
  {
   "cell_type": "code",
   "execution_count": 8,
   "id": "b3b75031-958d-4314-a0f2-626587d04948",
   "metadata": {},
   "outputs": [
    {
     "data": {
      "text/plain": [
       "True"
      ]
     },
     "execution_count": 8,
     "metadata": {},
     "output_type": "execute_result"
    }
   ],
   "source": [
    "# Test whether or not an item is in the set.\n",
    "1 in {1, 2, 3}"
   ]
  },
  {
   "cell_type": "code",
   "execution_count": 9,
   "id": "ba5dc433-c4a6-4aa8-8ebf-ef4c1e5b53d8",
   "metadata": {},
   "outputs": [
    {
     "data": {
      "text/plain": [
       "False"
      ]
     },
     "execution_count": 9,
     "metadata": {},
     "output_type": "execute_result"
    }
   ],
   "source": [
    "# Check to see if 'a' is in a Set {1, 2, 3}\n",
    "'a' in {1, 2, 3}"
   ]
  },
  {
   "cell_type": "markdown",
   "id": "a6d8faba-f335-490b-9e74-ea356b83b97b",
   "metadata": {},
   "source": [
    "When a set is defined, it gives rise to a decision problem.\n",
    "\n",
    "The decision problem is: is a given item in the set?"
   ]
  },
  {
   "cell_type": "markdown",
   "id": "59c3a6c4-181e-40c4-9906-afc01a072174",
   "metadata": {},
   "source": [
    "<br>\n",
    "\n",
    "### Tuples\n",
    "\n",
    "***"
   ]
  },
  {
   "cell_type": "code",
   "execution_count": 10,
   "id": "78f662e3-a3c4-4b94-9d13-0c2037420920",
   "metadata": {},
   "outputs": [
    {
     "data": {
      "text/plain": [
       "[1, 2, 3]"
      ]
     },
     "execution_count": 10,
     "metadata": {},
     "output_type": "execute_result"
    }
   ],
   "source": [
    "# List.\n",
    "[1,2,3]"
   ]
  },
  {
   "cell_type": "code",
   "execution_count": 11,
   "id": "dc364605-09ea-4740-8d4e-2e3f32c36f13",
   "metadata": {},
   "outputs": [
    {
     "data": {
      "text/plain": [
       "list"
      ]
     },
     "execution_count": 11,
     "metadata": {},
     "output_type": "execute_result"
    }
   ],
   "source": [
    "# Type.\n",
    "type([1,2,3])"
   ]
  },
  {
   "cell_type": "code",
   "execution_count": 12,
   "id": "dca0924e-9a25-4ccb-b10a-edec53fe1d52",
   "metadata": {},
   "outputs": [
    {
     "data": {
      "text/plain": [
       "(1, 2, 3)"
      ]
     },
     "execution_count": 12,
     "metadata": {},
     "output_type": "execute_result"
    }
   ],
   "source": [
    "# Tuple.\n",
    "(1, 2, 3)"
   ]
  },
  {
   "cell_type": "code",
   "execution_count": 13,
   "id": "0d9fbe2b-fdd4-442c-8006-f6c13567a793",
   "metadata": {},
   "outputs": [
    {
     "data": {
      "text/plain": [
       "tuple"
      ]
     },
     "execution_count": 13,
     "metadata": {},
     "output_type": "execute_result"
    }
   ],
   "source": [
    "# Tuple.\n",
    "type((1, 2, 3))"
   ]
  },
  {
   "cell_type": "code",
   "execution_count": 14,
   "id": "390ef7e1-605f-4d85-8648-5fca1ad166aa",
   "metadata": {},
   "outputs": [],
   "source": [
    "# Create a list.\n",
    "l = [1,2,3]"
   ]
  },
  {
   "cell_type": "code",
   "execution_count": 15,
   "id": "c61fb23a-e1db-4d93-b53e-793438dc694b",
   "metadata": {},
   "outputs": [],
   "source": [
    "# Reassign an element.\n",
    "l[1] = 4"
   ]
  },
  {
   "cell_type": "code",
   "execution_count": 16,
   "id": "980f44f6-ebd8-47af-9f44-add2a6d122c0",
   "metadata": {},
   "outputs": [
    {
     "data": {
      "text/plain": [
       "[1, 4, 3]"
      ]
     },
     "execution_count": 16,
     "metadata": {},
     "output_type": "execute_result"
    }
   ],
   "source": [
    "# The element is reassigned.\n",
    "l"
   ]
  },
  {
   "cell_type": "code",
   "execution_count": 17,
   "id": "4b447b1c-ceaf-44e4-b4f4-fb5371f6430f",
   "metadata": {},
   "outputs": [],
   "source": [
    "# Create a tuple.\n",
    "t = (1, 2, 3)"
   ]
  },
  {
   "cell_type": "code",
   "execution_count": 18,
   "id": "4d700ae1-3501-4aaf-8508-8081e0743e64",
   "metadata": {},
   "outputs": [
    {
     "data": {
      "text/plain": [
       "529344067295497451"
      ]
     },
     "execution_count": 18,
     "metadata": {},
     "output_type": "execute_result"
    }
   ],
   "source": [
    "# Can hash a tuple.\n",
    "hash(t)"
   ]
  },
  {
   "cell_type": "code",
   "execution_count": 19,
   "id": "4fcdaa15-e78a-4759-bc2a-051b9310e48f",
   "metadata": {},
   "outputs": [
    {
     "data": {
      "text/plain": [
       "'0x7589b9fe71bcceb'"
      ]
     },
     "execution_count": 19,
     "metadata": {},
     "output_type": "execute_result"
    }
   ],
   "source": [
    "# Usual output from a hash function is in hex.\n",
    "hex(hash(t))"
   ]
  },
  {
   "cell_type": "code",
   "execution_count": 20,
   "id": "8f0466f2-4a37-47ad-96da-f9672ccc6e3b",
   "metadata": {},
   "outputs": [
    {
     "data": {
      "text/plain": [
       "3"
      ]
     },
     "execution_count": 20,
     "metadata": {},
     "output_type": "execute_result"
    }
   ],
   "source": [
    "# You can use tuples as dictionary keys.\n",
    "D = {(1,2,3): 3, (1,2): 2}\n",
    "D[(1,2,3)]"
   ]
  },
  {
   "cell_type": "code",
   "execution_count": 21,
   "id": "9758ce38-6ba0-4143-b709-c1c8eaa60340",
   "metadata": {},
   "outputs": [],
   "source": [
    "# Tuples can be used for assignment - you don't have to use round brackets.\n",
    "a, b = 1, 2"
   ]
  },
  {
   "cell_type": "code",
   "execution_count": 22,
   "id": "92e5c627-eae8-457f-ab71-58e300011fcd",
   "metadata": {},
   "outputs": [
    {
     "data": {
      "text/plain": [
       "1"
      ]
     },
     "execution_count": 22,
     "metadata": {},
     "output_type": "execute_result"
    }
   ],
   "source": [
    "# Display a\n",
    "a"
   ]
  },
  {
   "cell_type": "code",
   "execution_count": 23,
   "id": "6876a9a5-1fbb-40f9-bce2-a7e7a62c66b4",
   "metadata": {},
   "outputs": [
    {
     "data": {
      "text/plain": [
       "2"
      ]
     },
     "execution_count": 23,
     "metadata": {},
     "output_type": "execute_result"
    }
   ],
   "source": [
    "# Display b\n",
    "b"
   ]
  },
  {
   "cell_type": "code",
   "execution_count": 24,
   "id": "f68f71ae-7074-4bb4-8810-deb4f997b371",
   "metadata": {},
   "outputs": [
    {
     "data": {
      "text/plain": [
       "{1, 2, 3}"
      ]
     },
     "execution_count": 24,
     "metadata": {},
     "output_type": "execute_result"
    }
   ],
   "source": [
    "# Some contexts require the round brackets.\n",
    "set((1, 2, 3))"
   ]
  },
  {
   "cell_type": "code",
   "execution_count": 25,
   "id": "9f84fb15-a850-49f1-a6a6-eae4360e9da6",
   "metadata": {},
   "outputs": [
    {
     "data": {
      "text/plain": [
       "{1, 2, 3}"
      ]
     },
     "execution_count": 25,
     "metadata": {},
     "output_type": "execute_result"
    }
   ],
   "source": [
    "# Some contexts require the round brackets.\n",
    "set((1, 2, 3))"
   ]
  },
  {
   "cell_type": "markdown",
   "id": "27a46793-8d9a-49d4-a774-b04795f19c1a",
   "metadata": {},
   "source": [
    "<br>\n",
    "\n",
    "## The Problem\n",
    "\n",
    "***"
   ]
  },
  {
   "cell_type": "markdown",
   "id": "decaa8b6-eb3f-485b-83cb-50769430aa08",
   "metadata": {},
   "source": [
    "**Given two lists** with different values which will match if put together, even if they are repeated. The problem is to connect the lists or dominos or tiles in such a way that the top and bottom will be the **same as the other**. For this example, **tuples have been used** to store the values."
   ]
  },
  {
   "cell_type": "code",
   "execution_count": 26,
   "id": "2cffd455-4af7-4874-9fbf-2ce04cbcf952",
   "metadata": {},
   "outputs": [],
   "source": [
    "# A and B for quicker assignment.\n",
    "a = 'a'\n",
    "b = 'b'"
   ]
  },
  {
   "cell_type": "code",
   "execution_count": 27,
   "id": "2e37ed6f-f4db-4063-8cb5-8b46955e2951",
   "metadata": {},
   "outputs": [],
   "source": [
    "# First list.\n",
    "L1 = ((a), (a, b), (b, b, a))"
   ]
  },
  {
   "cell_type": "code",
   "execution_count": 28,
   "id": "0b28a095-d455-4ae2-8fd3-08321a47efb3",
   "metadata": {},
   "outputs": [
    {
     "data": {
      "text/plain": [
       "('a', ('a', 'b'), ('b', 'b', 'a'))"
      ]
     },
     "execution_count": 28,
     "metadata": {},
     "output_type": "execute_result"
    }
   ],
   "source": [
    "# Display the first List.\n",
    "L1"
   ]
  },
  {
   "cell_type": "code",
   "execution_count": 29,
   "id": "58c4de10-89dd-4366-9996-e6427b2656f0",
   "metadata": {},
   "outputs": [
    {
     "data": {
      "text/plain": [
       "tuple"
      ]
     },
     "execution_count": 29,
     "metadata": {},
     "output_type": "execute_result"
    }
   ],
   "source": [
    "# Type of L1\n",
    "type(L1)"
   ]
  },
  {
   "cell_type": "code",
   "execution_count": 30,
   "id": "5e352b8a-7d61-4af6-af40-766e445a9587",
   "metadata": {},
   "outputs": [],
   "source": [
    "# Second list.\n",
    "L2 = ((b, a, a), (a, a), (b, b))"
   ]
  },
  {
   "cell_type": "code",
   "execution_count": 31,
   "id": "5949c407-efe6-484f-8d4e-1408e4c29869",
   "metadata": {},
   "outputs": [
    {
     "data": {
      "text/plain": [
       "(('b', 'a', 'a'), ('a', 'a'), ('b', 'b'))"
      ]
     },
     "execution_count": 31,
     "metadata": {},
     "output_type": "execute_result"
    }
   ],
   "source": [
    "# Display the second list.\n",
    "L2"
   ]
  },
  {
   "cell_type": "code",
   "execution_count": 32,
   "id": "503b9b38-9693-4305-8029-8858b68ec284",
   "metadata": {},
   "outputs": [
    {
     "data": {
      "text/plain": [
       "tuple"
      ]
     },
     "execution_count": 32,
     "metadata": {},
     "output_type": "execute_result"
    }
   ],
   "source": [
    "# Type of L2\n",
    "type(L2)"
   ]
  },
  {
   "cell_type": "code",
   "execution_count": 33,
   "id": "ab549eeb-8000-4a86-be93-366366f28690",
   "metadata": {},
   "outputs": [],
   "source": [
    "# A proposed solution.\n",
    "S = (2, 1, 2, 0)"
   ]
  },
  {
   "cell_type": "code",
   "execution_count": 34,
   "id": "7c55ab89-cbba-4807-8a83-ce1d83867487",
   "metadata": {},
   "outputs": [
    {
     "data": {
      "text/plain": [
       "tuple"
      ]
     },
     "execution_count": 34,
     "metadata": {},
     "output_type": "execute_result"
    }
   ],
   "source": [
    "# Type of S\n",
    "type(S)"
   ]
  },
  {
   "cell_type": "code",
   "execution_count": 35,
   "id": "1cc609a1-38e7-48d2-8052-2702572f325f",
   "metadata": {},
   "outputs": [],
   "source": [
    "# Apply the proposed solution to a tuple.\n",
    "def apply(S, L):\n",
    "    S_on_L = [''.join(L[i]) for i in S]\n",
    "    return ''.join(S_on_L)"
   ]
  },
  {
   "cell_type": "code",
   "execution_count": 36,
   "id": "03cab702-1bd9-4cfd-99ee-d4d2ac121b36",
   "metadata": {},
   "outputs": [
    {
     "data": {
      "text/plain": [
       "'bbaabbbaa'"
      ]
     },
     "execution_count": 36,
     "metadata": {},
     "output_type": "execute_result"
    }
   ],
   "source": [
    "# Apply S to L1.\n",
    "apply(S, L1)"
   ]
  },
  {
   "cell_type": "code",
   "execution_count": 37,
   "id": "e7040c83-4e6a-4aab-867f-0eff7945bd49",
   "metadata": {},
   "outputs": [
    {
     "data": {
      "text/plain": [
       "'bbaabbbaa'"
      ]
     },
     "execution_count": 37,
     "metadata": {},
     "output_type": "execute_result"
    }
   ],
   "source": [
    "# Apply S to L2.\n",
    "apply(S, L2)"
   ]
  },
  {
   "cell_type": "code",
   "execution_count": 38,
   "id": "f1d5c415-1e36-470b-bd5e-bfb04a916af3",
   "metadata": {},
   "outputs": [
    {
     "data": {
      "text/plain": [
       "True"
      ]
     },
     "execution_count": 38,
     "metadata": {},
     "output_type": "execute_result"
    }
   ],
   "source": [
    "# Get Python to check if the proposed solution is a solution.\n",
    "apply(S, L1) == apply(S, L2)"
   ]
  },
  {
   "cell_type": "code",
   "execution_count": 39,
   "id": "33ebabcd-a4b4-4c41-ae43-2bde55e5549b",
   "metadata": {},
   "outputs": [
    {
     "data": {
      "text/plain": [
       "'bbaabbbaabbaabbbaa'"
      ]
     },
     "execution_count": 39,
     "metadata": {},
     "output_type": "execute_result"
    }
   ],
   "source": [
    "# Another solution - there are infinitely many.\n",
    "apply(S*2, L1)"
   ]
  },
  {
   "cell_type": "code",
   "execution_count": 40,
   "id": "5320d6cf-af32-437f-a2fd-fc5e01711593",
   "metadata": {},
   "outputs": [
    {
     "data": {
      "text/plain": [
       "'bbaabbbaabbaabbbaa'"
      ]
     },
     "execution_count": 40,
     "metadata": {},
     "output_type": "execute_result"
    }
   ],
   "source": [
    "# Another solution - there are infinitely many.\n",
    "apply(S*2, L2)"
   ]
  },
  {
   "cell_type": "code",
   "execution_count": 41,
   "id": "8f118144-52b8-4a5f-bb70-cfe3968635a4",
   "metadata": {},
   "outputs": [
    {
     "data": {
      "text/plain": [
       "True"
      ]
     },
     "execution_count": 41,
     "metadata": {},
     "output_type": "execute_result"
    }
   ],
   "source": [
    "# Get Python to check if the proposed solution is a solution.\n",
    "apply(S*2, L1) == apply(S*2, L2)"
   ]
  },
  {
   "cell_type": "markdown",
   "id": "6c9835ef-58ef-45ea-a7f8-b4d16a52288f",
   "metadata": {},
   "source": [
    "$$ (L_1, L_2) \\rightarrow \\{True, False\\} \\qquad |L_1| = |L_2| $$"
   ]
  },
  {
   "cell_type": "markdown",
   "id": "18ca96f9-2bb7-431a-96f7-73918affedfe",
   "metadata": {},
   "source": [
    "As shown above, after an applied solution of **(2, 1, 2, 0)** and **(2, 1, 2, 0, 2, 1, 2, 0)** which are **two ways** of sorting the two lists in such a way that they will be **equal**. They result of this is **yes or true**. As they turn out to be equal."
   ]
  },
  {
   "cell_type": "markdown",
   "id": "1adfe3e7-3f89-4872-b5bf-cc1b91c8dcbd",
   "metadata": {},
   "source": [
    "<br>"
   ]
  },
  {
   "cell_type": "code",
   "execution_count": 42,
   "id": "f224b0be-46f2-4be2-9d3f-8556aeabe7fc",
   "metadata": {},
   "outputs": [
    {
     "data": {
      "text/plain": [
       "('a', ('a', 'b'), ('b', 'b', 'a'))"
      ]
     },
     "execution_count": 42,
     "metadata": {},
     "output_type": "execute_result"
    }
   ],
   "source": [
    "# Display the first List.\n",
    "L1"
   ]
  },
  {
   "cell_type": "code",
   "execution_count": 43,
   "id": "7cda7258-337d-41e1-92d7-cd1dd105031b",
   "metadata": {},
   "outputs": [
    {
     "data": {
      "text/plain": [
       "(('b', 'a', 'a'), ('a', 'a'), ('b', 'b'))"
      ]
     },
     "execution_count": 43,
     "metadata": {},
     "output_type": "execute_result"
    }
   ],
   "source": [
    "# Display the second List.\n",
    "L2"
   ]
  },
  {
   "cell_type": "code",
   "execution_count": 44,
   "id": "053db475-2803-4204-9622-8f9fd78b3b44",
   "metadata": {},
   "outputs": [
    {
     "data": {
      "text/plain": [
       "(2, 1, 2, 0, 2, 1, 2, 0)"
      ]
     },
     "execution_count": 44,
     "metadata": {},
     "output_type": "execute_result"
    }
   ],
   "source": [
    "# Display solution.\n",
    "S*2"
   ]
  },
  {
   "cell_type": "markdown",
   "id": "073cd04f-c569-4c95-8297-37265563027a",
   "metadata": {},
   "source": [
    "| L1 | L2 |\n",
    "| :----: | :----: |\n",
    "| **bba** ab **bba** a **bba** ab **bba** a | **bb** aa **bb** baa **bb** aa **bb** baa |"
   ]
  },
  {
   "cell_type": "markdown",
   "id": "ae7f2f0e-8947-4c96-a891-96b28403cd95",
   "metadata": {},
   "source": [
    "The code and tuple above display how this operation has been carried out. The way it has been done is as follows:\n",
    "\n",
    "<br>\n",
    "\n",
    "Each of the tuples indexes eg. [0] are added on depending on their **position** based upon the **solution**. Let's take into consideration **L1 ('a', ('a', 'b'), ('b', 'b', 'a'))** and **(2, 1, 2, 0, 2, 1, 2, 0) solution**. The **first string** that would be taken in would be **bba** as it is in the **[2] position** of the List or Tuple (in this example tuple). The **same** would be done **for the second list until the end of the solution**.\n",
    "\n",
    "<br>\n",
    "\n",
    "**At the end** the **comparing of the two** is done in order to **see if they are the same**. Which in this case they are and the problem turns out to be a decidable problem."
   ]
  },
  {
   "cell_type": "markdown",
   "id": "e1673c2f-e488-452e-a4f0-fe6600c35bcf",
   "metadata": {},
   "source": [
    "<br>\n",
    "\n",
    "<a id='no-correspondence'></a>\n",
    "\n",
    "## No Correspondence\n",
    "\n",
    "***"
   ]
  },
  {
   "cell_type": "markdown",
   "id": "1a579f31-f83c-4da6-9bf0-f2db4102cf7b",
   "metadata": {},
   "source": [
    "As it was shown up above, there are decidable problems, but there most certaintly also are undecidable problems, where there is no possible way of acquiring the same value for both tuples."
   ]
  },
  {
   "cell_type": "code",
   "execution_count": 45,
   "id": "391560fe-50f9-4f7b-8049-c44991a4d0c0",
   "metadata": {},
   "outputs": [],
   "source": [
    "# First list.\n",
    "L1 = ((a, b), (b, b, a))"
   ]
  },
  {
   "cell_type": "code",
   "execution_count": 46,
   "id": "e75726d2-bdb5-417b-8207-99a0cde33296",
   "metadata": {},
   "outputs": [
    {
     "data": {
      "text/plain": [
       "(('a', 'b'), ('b', 'b', 'a'))"
      ]
     },
     "execution_count": 46,
     "metadata": {},
     "output_type": "execute_result"
    }
   ],
   "source": [
    "# Display the first List.\n",
    "L1"
   ]
  },
  {
   "cell_type": "code",
   "execution_count": 47,
   "id": "27f97e16-d347-4ac6-a084-6d75bdf5be92",
   "metadata": {},
   "outputs": [],
   "source": [
    "# Second list.\n",
    "L2 = ((a, a), (b, b))"
   ]
  },
  {
   "cell_type": "code",
   "execution_count": 48,
   "id": "8816d8dd-1745-4efe-80ca-f0dc6265fee5",
   "metadata": {},
   "outputs": [
    {
     "data": {
      "text/plain": [
       "(('a', 'a'), ('b', 'b'))"
      ]
     },
     "execution_count": 48,
     "metadata": {},
     "output_type": "execute_result"
    }
   ],
   "source": [
    "# Display the second list.\n",
    "L2"
   ]
  },
  {
   "cell_type": "code",
   "execution_count": 49,
   "id": "b32a755b-a275-4684-a3a9-b1be5cc97cc5",
   "metadata": {},
   "outputs": [],
   "source": [
    "# A proposed solution.\n",
    "S = (0, 1)"
   ]
  },
  {
   "cell_type": "code",
   "execution_count": 50,
   "id": "54f97531-3871-47fa-acef-a74921eb49cd",
   "metadata": {},
   "outputs": [],
   "source": [
    "# Apply the proposed solution to a tuple.\n",
    "def apply(S, L):\n",
    "    S_on_L = [''.join(L[i]) for i in S]\n",
    "    return ''.join(S_on_L)"
   ]
  },
  {
   "cell_type": "code",
   "execution_count": 51,
   "id": "03386029-a100-4894-b039-630ae2d1e351",
   "metadata": {},
   "outputs": [
    {
     "data": {
      "text/plain": [
       "'abbba'"
      ]
     },
     "execution_count": 51,
     "metadata": {},
     "output_type": "execute_result"
    }
   ],
   "source": [
    "# Apply S to L1.\n",
    "apply(S, L1)"
   ]
  },
  {
   "cell_type": "code",
   "execution_count": 52,
   "id": "b3e58d23-3d39-4913-aaa8-e9c388a7e8f6",
   "metadata": {},
   "outputs": [
    {
     "data": {
      "text/plain": [
       "'aabb'"
      ]
     },
     "execution_count": 52,
     "metadata": {},
     "output_type": "execute_result"
    }
   ],
   "source": [
    "# Apply S to L2.\n",
    "apply(S, L2)"
   ]
  },
  {
   "cell_type": "code",
   "execution_count": 53,
   "id": "1d68df69-1f1d-4f64-bd96-957ad45e95a3",
   "metadata": {},
   "outputs": [
    {
     "data": {
      "text/plain": [
       "False"
      ]
     },
     "execution_count": 53,
     "metadata": {},
     "output_type": "execute_result"
    }
   ],
   "source": [
    "# Get Python to check if the proposed solution is a solution.\n",
    "apply(S, L1) == apply(S, L2)"
   ]
  },
  {
   "cell_type": "code",
   "execution_count": 54,
   "id": "70ca605e-0dcf-4002-a1e0-9904118e4cbc",
   "metadata": {},
   "outputs": [
    {
     "data": {
      "text/plain": [
       "'abbbaabbba'"
      ]
     },
     "execution_count": 54,
     "metadata": {},
     "output_type": "execute_result"
    }
   ],
   "source": [
    "# Another solution - there are infinitely many.\n",
    "apply(S*2, L1)"
   ]
  },
  {
   "cell_type": "code",
   "execution_count": 55,
   "id": "f23f2c5e-2969-4ef3-996f-68b015e57e22",
   "metadata": {},
   "outputs": [
    {
     "data": {
      "text/plain": [
       "'aabbaabb'"
      ]
     },
     "execution_count": 55,
     "metadata": {},
     "output_type": "execute_result"
    }
   ],
   "source": [
    "# Another solution - there are infinitely many.\n",
    "apply(S*2, L2)"
   ]
  },
  {
   "cell_type": "code",
   "execution_count": 56,
   "id": "051b0667-b099-4898-a003-13f5c7fa49e0",
   "metadata": {},
   "outputs": [
    {
     "data": {
      "text/plain": [
       "False"
      ]
     },
     "execution_count": 56,
     "metadata": {},
     "output_type": "execute_result"
    }
   ],
   "source": [
    "# Get Python to check if the proposed solution is a solution.\n",
    "apply(S*2, L1) == apply(S*2, L2)"
   ]
  },
  {
   "cell_type": "markdown",
   "id": "3b8be837-068c-4786-b0e1-80828151ae22",
   "metadata": {},
   "source": [
    "$$ (L_1, L_2) \\rightarrow \\{True, False\\} \\qquad |L_1| \\neq |L_2| $$"
   ]
  },
  {
   "cell_type": "markdown",
   "id": "119d918a-0cf9-45eb-b020-afe1c58328a9",
   "metadata": {},
   "source": [
    "Like in the example above, with the applied solution of **(0, 1)** and **(0, 1, 0, 1)**. The result was unfortunately false and therefore the two tuples are not equal to each other."
   ]
  },
  {
   "cell_type": "code",
   "execution_count": 57,
   "id": "90d45db4-c6d8-49e3-937d-9be91157d574",
   "metadata": {},
   "outputs": [
    {
     "data": {
      "text/plain": [
       "(('a', 'b'), ('b', 'b', 'a'))"
      ]
     },
     "execution_count": 57,
     "metadata": {},
     "output_type": "execute_result"
    }
   ],
   "source": [
    "# Display the first List.\n",
    "L1"
   ]
  },
  {
   "cell_type": "code",
   "execution_count": 58,
   "id": "62c5d358-2e59-4e53-8d83-8ac4dfdedfd4",
   "metadata": {},
   "outputs": [
    {
     "data": {
      "text/plain": [
       "(('a', 'a'), ('b', 'b'))"
      ]
     },
     "execution_count": 58,
     "metadata": {},
     "output_type": "execute_result"
    }
   ],
   "source": [
    "# Display the second List.\n",
    "L2"
   ]
  },
  {
   "cell_type": "code",
   "execution_count": 59,
   "id": "7c4ec2a7-3ead-44be-a055-0d0a8a5b7472",
   "metadata": {},
   "outputs": [
    {
     "data": {
      "text/plain": [
       "(0, 1, 0, 1)"
      ]
     },
     "execution_count": 59,
     "metadata": {},
     "output_type": "execute_result"
    }
   ],
   "source": [
    "# Display solution.\n",
    "S*2"
   ]
  },
  {
   "cell_type": "markdown",
   "id": "0a64f641-54d6-47d4-bd12-1ba4ef2f8fb8",
   "metadata": {},
   "source": [
    "| L1 | L2 |\n",
    "| :----: | :----: |\n",
    "| **ab** bba **ab** bba | **aa** bb **aa** bb **aa** |"
   ]
  },
  {
   "cell_type": "markdown",
   "id": "4e2c9481-a337-4c80-a64d-e632aa474e78",
   "metadata": {},
   "source": [
    "As in the previous example, the operations are the same. The only elements that differ are the tuple values and the solution.\n",
    "\n",
    "<br>\n",
    "\n",
    "Since these two tuples turn out to not be equal to each other, this makes it an undecidable problem with no correspondence."
   ]
  },
  {
   "cell_type": "markdown",
   "id": "cc2e21cf-a158-4155-8b99-1a5760b31ef1",
   "metadata": {},
   "source": [
    "<br>\n",
    "\n",
    "## Variants of Post Correspondence Problem\n",
    "\n",
    "***"
   ]
  },
  {
   "cell_type": "markdown",
   "id": "e2b54462-d02e-44a9-8fb1-718d70c157c4",
   "metadata": {},
   "source": [
    "There are many variants of the Post Correspondence Problem. Some of which include:\n",
    "\n",
    "- Circular Post Correspondence Problem - Which is undecidable.\n",
    "- Marked Post Correspondence Problem - Which is also undecidable.\n",
    "- Post Embedding Problem - This variant is decidable.\n",
    "- Bounded Post Correspondence Problem - Which will be discussed below.\n",
    "- And many more...\n",
    "\n",
    "Each of the variants uses different approaches and therefore can be used on different occassions."
   ]
  },
  {
   "cell_type": "markdown",
   "id": "d8c3b895-2319-484d-81bc-a917a95992fb",
   "metadata": {},
   "source": [
    "<br>\n",
    "<br>\n",
    "\n",
    "# Bounded Post Correspondence Problem\n",
    "\n",
    "***"
   ]
  },
  {
   "cell_type": "markdown",
   "id": "7ed4c73a-554f-45c5-8223-e2ee1430066d",
   "metadata": {
    "jp-MarkdownHeadingCollapsed": true,
    "tags": []
   },
   "source": [
    "<br>\n",
    "\n",
    "### What is it?\n",
    "\n",
    "***\n",
    "\n",
    "<b>The Bounded Post Correspondence Problem</b> is <b>one of the most important variants</b> of Post Correpondence Problem. It's <b>goal</b> is to see if we can <b>find a match</b> using no more than <b>$K$ tiles or dominos</b>, this includes the <b>repeated tiles or dominos</b>. Where $K$ is a natural number and the $S$ cannot be equal or greater than $K$."
   ]
  },
  {
   "cell_type": "markdown",
   "id": "dc7715f1-76e1-401a-957f-1eca062a1745",
   "metadata": {},
   "source": [
    "$$ |S| \\leq K \\qquad K \\in \\mathbb{N} $$"
   ]
  },
  {
   "cell_type": "markdown",
   "id": "7eb67c2e-cc6c-4188-9260-8c06daad1ea1",
   "metadata": {},
   "source": [
    "### NP-Complete\n",
    "\n",
    "***"
   ]
  },
  {
   "cell_type": "markdown",
   "id": "ae1b3926-8d6e-41bb-90d7-9941c9639a06",
   "metadata": {},
   "source": [
    "This Bounded Post Correspondence Problem is also **NP-complete**, this stands for **Nondeterministic Polynomial-Time Complete**. This means that it is a very hard computational problem.\n",
    "\n",
    "<br>\n",
    "\n",
    "<div align=\"center\">\n",
    "    \n",
    "<img src=\"https://upload.wikimedia.org/wikipedia/commons/thumb/a/a0/P_np_np-complete_np-hard.svg/800px-P_np_np-complete_np-hard.svg.png\" alt=\"P, NP, NP-Complete and NP-Hard Image\" width=\"600px\"/>\n",
    "\n",
    "</div>\n",
    "The image above displays the P, NP, NP-Complete and NP-Hard.\n",
    "\n",
    "Adapted from [Wikipedia](https://en.wikipedia.org/wiki/NP-completeness)\n",
    "\n",
    "<br>\n",
    "\n",
    "NP-Complete was introduced back in 1971. The NP-Complete problems are in a set of all decision problems where the solutions can be verified in polynomial time. *\"A problem p in NP is NP-complete if every other problem in NP can be transformed (or reduced) into p in polynomial time\"*."
   ]
  },
  {
   "cell_type": "markdown",
   "id": "b08b44b0-f6dd-4df5-9aa9-6a65a94958d4",
   "metadata": {},
   "source": [
    "<br>\n",
    "\n",
    "# Itertools\n",
    "\n",
    "***"
   ]
  },
  {
   "cell_type": "code",
   "execution_count": 60,
   "id": "83578e42-0bd8-42d2-8752-47248d5ef069",
   "metadata": {},
   "outputs": [],
   "source": [
    "# A very useful module in the Python standard library.\n",
    "import itertools as it"
   ]
  },
  {
   "cell_type": "code",
   "execution_count": 61,
   "id": "591b840d-2030-4bff-b0d8-ee6772b49f34",
   "metadata": {},
   "outputs": [
    {
     "data": {
      "text/plain": [
       "[('A', 'B'), ('A', 'C'), ('B', 'A'), ('B', 'C'), ('C', 'A'), ('C', 'B')]"
      ]
     },
     "execution_count": 61,
     "metadata": {},
     "output_type": "execute_result"
    }
   ],
   "source": [
    "# Display of how Permutations work.\n",
    "list(it.permutations('ABC', 2))"
   ]
  },
  {
   "cell_type": "code",
   "execution_count": 62,
   "id": "c9a574e2-902e-4b1a-b310-8ed04aa4524e",
   "metadata": {},
   "outputs": [
    {
     "data": {
      "text/plain": [
       "[('A', 'B'), ('A', 'C'), ('B', 'C')]"
      ]
     },
     "execution_count": 62,
     "metadata": {},
     "output_type": "execute_result"
    }
   ],
   "source": [
    "# Display of how Combinations work.\n",
    "list(it.combinations('ABC', 2))"
   ]
  },
  {
   "cell_type": "code",
   "execution_count": 63,
   "id": "edd8b895-4b07-4f47-a32a-f7bf379d42e2",
   "metadata": {},
   "outputs": [
    {
     "data": {
      "text/plain": [
       "[('A', 'A'),\n",
       " ('A', 'B'),\n",
       " ('A', 'C'),\n",
       " ('A', 'D'),\n",
       " ('B', 'A'),\n",
       " ('B', 'B'),\n",
       " ('B', 'C'),\n",
       " ('B', 'D'),\n",
       " ('C', 'A'),\n",
       " ('C', 'B'),\n",
       " ('C', 'C'),\n",
       " ('C', 'D'),\n",
       " ('D', 'A'),\n",
       " ('D', 'B'),\n",
       " ('D', 'C'),\n",
       " ('D', 'D')]"
      ]
     },
     "execution_count": 63,
     "metadata": {},
     "output_type": "execute_result"
    }
   ],
   "source": [
    "# Display of how Product works.\n",
    "list(it.product('ABCD', 'ABCD'))"
   ]
  },
  {
   "cell_type": "code",
   "execution_count": 64,
   "id": "34bf255d-ef25-4b7e-b1de-26b6757257af",
   "metadata": {},
   "outputs": [
    {
     "data": {
      "text/plain": [
       "[(0, 0, 0),\n",
       " (0, 0, 1),\n",
       " (0, 1, 0),\n",
       " (0, 1, 1),\n",
       " (1, 0, 0),\n",
       " (1, 0, 1),\n",
       " (1, 1, 0),\n",
       " (1, 1, 1)]"
      ]
     },
     "execution_count": 64,
     "metadata": {},
     "output_type": "execute_result"
    }
   ],
   "source": [
    "list(it.product(range(len(L1)), range(len(L1)), range(len(L1))))"
   ]
  },
  {
   "cell_type": "code",
   "execution_count": 65,
   "id": "da03a771-4504-4fe0-a943-bec78be28853",
   "metadata": {},
   "outputs": [
    {
     "name": "stdout",
     "output_type": "stream",
     "text": [
      "(0,)\n",
      "(1,)\n",
      "(0, 0)\n",
      "(0, 1)\n",
      "(1, 0)\n",
      "(1, 1)\n",
      "(0, 0, 0)\n",
      "(0, 0, 1)\n",
      "(0, 1, 0)\n",
      "(0, 1, 1)\n",
      "(1, 0, 0)\n",
      "(1, 0, 1)\n",
      "(1, 1, 0)\n",
      "(1, 1, 1)\n",
      "(0, 0, 0, 0)\n",
      "(0, 0, 0, 1)\n",
      "(0, 0, 1, 0)\n",
      "(0, 0, 1, 1)\n",
      "(0, 1, 0, 0)\n",
      "(0, 1, 0, 1)\n",
      "(0, 1, 1, 0)\n",
      "(0, 1, 1, 1)\n",
      "(1, 0, 0, 0)\n",
      "(1, 0, 0, 1)\n",
      "(1, 0, 1, 0)\n",
      "(1, 0, 1, 1)\n",
      "(1, 1, 0, 0)\n",
      "(1, 1, 0, 1)\n",
      "(1, 1, 1, 0)\n",
      "(1, 1, 1, 1)\n"
     ]
    }
   ],
   "source": [
    "# The bound for the bounded problem.\n",
    "K = 4\n",
    "\n",
    "# The generators.\n",
    "gens = []\n",
    "\n",
    "# Loop through all possible solutions.\n",
    "for i in range(1, K + 1):\n",
    "    # Create a generator for solutions of length i, append it to gens.\n",
    "    gens.append(it.product(*([range(len(L1))] * i)))\n",
    "\n",
    "# it.chain just chains generators together.\n",
    "for solution in it.chain(*gens):\n",
    "    print(solution)"
   ]
  },
  {
   "cell_type": "markdown",
   "id": "3abe085a-2d0b-4fc3-ba53-b26b8b58fac1",
   "metadata": {},
   "source": [
    "<br>\n",
    "\n",
    "## Solved the Bounded Post Correspondence Problem\n",
    "\n",
    "***"
   ]
  },
  {
   "cell_type": "code",
   "execution_count": 66,
   "id": "10eda1c2-4bec-495e-90a1-16ded27eefea",
   "metadata": {},
   "outputs": [
    {
     "data": {
      "text/plain": [
       "4"
      ]
     },
     "execution_count": 66,
     "metadata": {},
     "output_type": "execute_result"
    }
   ],
   "source": [
    "# Print out the value of K.\n",
    "K"
   ]
  },
  {
   "cell_type": "code",
   "execution_count": 67,
   "id": "7765807f-4b88-4b61-94f1-f36237a9d7dc",
   "metadata": {},
   "outputs": [],
   "source": [
    "# Print out the first list from before.\n",
    "L1 = ((a), (a, b), (b, b, a))"
   ]
  },
  {
   "cell_type": "code",
   "execution_count": 68,
   "id": "48064e53-a3b3-41a7-8732-038eeb9a9ea6",
   "metadata": {},
   "outputs": [],
   "source": [
    "# Print out the second list from before.\n",
    "L2 = ((a), (b, a), (b, b, a))"
   ]
  },
  {
   "cell_type": "code",
   "execution_count": 69,
   "id": "ab84b1b2-3bd8-49ec-8184-31a9fb1cfea8",
   "metadata": {},
   "outputs": [],
   "source": [
    "# Adapted from https://stackoverflow.com/questions/533905/get-the-cartesian-product-of-a-series-of-lists\n",
    "# Get all possible cartesian products of L1 and L2\n",
    "def cartesian_product(L1, L2):\n",
    "    for element in it.product(L1, L2):\n",
    "        print(\"Current cartesian product: \" + str(element))\n",
    "        print()\n",
    "        correspond(L1, L2)"
   ]
  },
  {
   "cell_type": "code",
   "execution_count": 70,
   "id": "deb256c7-a501-468f-a4b9-1990c9fb2d07",
   "metadata": {},
   "outputs": [],
   "source": [
    "# See if the two Lists are the same.\n",
    "def correspond(L1, L2):\n",
    "    # Print out a message and return true if they are.\n",
    "    if L1 == L2:\n",
    "        print(str(L1) + \" and \" + str(L2) + \" are the same.\")\n",
    "        print()\n",
    "        return True\n",
    "    # Print out a message and return false if they are not.\n",
    "    else:\n",
    "        print (str(L1) + \" and \" + str(L2) + \" are not the same.\")\n",
    "        print()\n",
    "        return False"
   ]
  },
  {
   "cell_type": "code",
   "execution_count": 71,
   "id": "91321424-1e0f-42f4-8127-e139dc384e51",
   "metadata": {},
   "outputs": [],
   "source": [
    "# Write a solver for the bounded version.\n",
    "def bpcp_solver(L1, L2, K):\n",
    "    for i in range(K + 1):\n",
    "        cartesian_product(L1, L2)"
   ]
  },
  {
   "cell_type": "code",
   "execution_count": 72,
   "id": "ed779997-68a1-4403-836f-6808e171faf1",
   "metadata": {},
   "outputs": [
    {
     "name": "stdout",
     "output_type": "stream",
     "text": [
      "Current cartesian product: ('a', 'a')\n",
      "\n",
      "('a', ('a', 'b'), ('b', 'b', 'a')) and ('a', ('b', 'a'), ('b', 'b', 'a')) are not the same.\n",
      "\n",
      "Current cartesian product: ('a', ('b', 'a'))\n",
      "\n",
      "('a', ('a', 'b'), ('b', 'b', 'a')) and ('a', ('b', 'a'), ('b', 'b', 'a')) are not the same.\n",
      "\n",
      "Current cartesian product: ('a', ('b', 'b', 'a'))\n",
      "\n",
      "('a', ('a', 'b'), ('b', 'b', 'a')) and ('a', ('b', 'a'), ('b', 'b', 'a')) are not the same.\n",
      "\n",
      "Current cartesian product: (('a', 'b'), 'a')\n",
      "\n",
      "('a', ('a', 'b'), ('b', 'b', 'a')) and ('a', ('b', 'a'), ('b', 'b', 'a')) are not the same.\n",
      "\n",
      "Current cartesian product: (('a', 'b'), ('b', 'a'))\n",
      "\n",
      "('a', ('a', 'b'), ('b', 'b', 'a')) and ('a', ('b', 'a'), ('b', 'b', 'a')) are not the same.\n",
      "\n",
      "Current cartesian product: (('a', 'b'), ('b', 'b', 'a'))\n",
      "\n",
      "('a', ('a', 'b'), ('b', 'b', 'a')) and ('a', ('b', 'a'), ('b', 'b', 'a')) are not the same.\n",
      "\n",
      "Current cartesian product: (('b', 'b', 'a'), 'a')\n",
      "\n",
      "('a', ('a', 'b'), ('b', 'b', 'a')) and ('a', ('b', 'a'), ('b', 'b', 'a')) are not the same.\n",
      "\n",
      "Current cartesian product: (('b', 'b', 'a'), ('b', 'a'))\n",
      "\n",
      "('a', ('a', 'b'), ('b', 'b', 'a')) and ('a', ('b', 'a'), ('b', 'b', 'a')) are not the same.\n",
      "\n",
      "Current cartesian product: (('b', 'b', 'a'), ('b', 'b', 'a'))\n",
      "\n",
      "('a', ('a', 'b'), ('b', 'b', 'a')) and ('a', ('b', 'a'), ('b', 'b', 'a')) are not the same.\n",
      "\n",
      "Current cartesian product: ('a', 'a')\n",
      "\n",
      "('a', ('a', 'b'), ('b', 'b', 'a')) and ('a', ('b', 'a'), ('b', 'b', 'a')) are not the same.\n",
      "\n",
      "Current cartesian product: ('a', ('b', 'a'))\n",
      "\n",
      "('a', ('a', 'b'), ('b', 'b', 'a')) and ('a', ('b', 'a'), ('b', 'b', 'a')) are not the same.\n",
      "\n",
      "Current cartesian product: ('a', ('b', 'b', 'a'))\n",
      "\n",
      "('a', ('a', 'b'), ('b', 'b', 'a')) and ('a', ('b', 'a'), ('b', 'b', 'a')) are not the same.\n",
      "\n",
      "Current cartesian product: (('a', 'b'), 'a')\n",
      "\n",
      "('a', ('a', 'b'), ('b', 'b', 'a')) and ('a', ('b', 'a'), ('b', 'b', 'a')) are not the same.\n",
      "\n",
      "Current cartesian product: (('a', 'b'), ('b', 'a'))\n",
      "\n",
      "('a', ('a', 'b'), ('b', 'b', 'a')) and ('a', ('b', 'a'), ('b', 'b', 'a')) are not the same.\n",
      "\n",
      "Current cartesian product: (('a', 'b'), ('b', 'b', 'a'))\n",
      "\n",
      "('a', ('a', 'b'), ('b', 'b', 'a')) and ('a', ('b', 'a'), ('b', 'b', 'a')) are not the same.\n",
      "\n",
      "Current cartesian product: (('b', 'b', 'a'), 'a')\n",
      "\n",
      "('a', ('a', 'b'), ('b', 'b', 'a')) and ('a', ('b', 'a'), ('b', 'b', 'a')) are not the same.\n",
      "\n",
      "Current cartesian product: (('b', 'b', 'a'), ('b', 'a'))\n",
      "\n",
      "('a', ('a', 'b'), ('b', 'b', 'a')) and ('a', ('b', 'a'), ('b', 'b', 'a')) are not the same.\n",
      "\n",
      "Current cartesian product: (('b', 'b', 'a'), ('b', 'b', 'a'))\n",
      "\n",
      "('a', ('a', 'b'), ('b', 'b', 'a')) and ('a', ('b', 'a'), ('b', 'b', 'a')) are not the same.\n",
      "\n",
      "Current cartesian product: ('a', 'a')\n",
      "\n",
      "('a', ('a', 'b'), ('b', 'b', 'a')) and ('a', ('b', 'a'), ('b', 'b', 'a')) are not the same.\n",
      "\n",
      "Current cartesian product: ('a', ('b', 'a'))\n",
      "\n",
      "('a', ('a', 'b'), ('b', 'b', 'a')) and ('a', ('b', 'a'), ('b', 'b', 'a')) are not the same.\n",
      "\n",
      "Current cartesian product: ('a', ('b', 'b', 'a'))\n",
      "\n",
      "('a', ('a', 'b'), ('b', 'b', 'a')) and ('a', ('b', 'a'), ('b', 'b', 'a')) are not the same.\n",
      "\n",
      "Current cartesian product: (('a', 'b'), 'a')\n",
      "\n",
      "('a', ('a', 'b'), ('b', 'b', 'a')) and ('a', ('b', 'a'), ('b', 'b', 'a')) are not the same.\n",
      "\n",
      "Current cartesian product: (('a', 'b'), ('b', 'a'))\n",
      "\n",
      "('a', ('a', 'b'), ('b', 'b', 'a')) and ('a', ('b', 'a'), ('b', 'b', 'a')) are not the same.\n",
      "\n",
      "Current cartesian product: (('a', 'b'), ('b', 'b', 'a'))\n",
      "\n",
      "('a', ('a', 'b'), ('b', 'b', 'a')) and ('a', ('b', 'a'), ('b', 'b', 'a')) are not the same.\n",
      "\n",
      "Current cartesian product: (('b', 'b', 'a'), 'a')\n",
      "\n",
      "('a', ('a', 'b'), ('b', 'b', 'a')) and ('a', ('b', 'a'), ('b', 'b', 'a')) are not the same.\n",
      "\n",
      "Current cartesian product: (('b', 'b', 'a'), ('b', 'a'))\n",
      "\n",
      "('a', ('a', 'b'), ('b', 'b', 'a')) and ('a', ('b', 'a'), ('b', 'b', 'a')) are not the same.\n",
      "\n",
      "Current cartesian product: (('b', 'b', 'a'), ('b', 'b', 'a'))\n",
      "\n",
      "('a', ('a', 'b'), ('b', 'b', 'a')) and ('a', ('b', 'a'), ('b', 'b', 'a')) are not the same.\n",
      "\n",
      "Current cartesian product: ('a', 'a')\n",
      "\n",
      "('a', ('a', 'b'), ('b', 'b', 'a')) and ('a', ('b', 'a'), ('b', 'b', 'a')) are not the same.\n",
      "\n",
      "Current cartesian product: ('a', ('b', 'a'))\n",
      "\n",
      "('a', ('a', 'b'), ('b', 'b', 'a')) and ('a', ('b', 'a'), ('b', 'b', 'a')) are not the same.\n",
      "\n",
      "Current cartesian product: ('a', ('b', 'b', 'a'))\n",
      "\n",
      "('a', ('a', 'b'), ('b', 'b', 'a')) and ('a', ('b', 'a'), ('b', 'b', 'a')) are not the same.\n",
      "\n",
      "Current cartesian product: (('a', 'b'), 'a')\n",
      "\n",
      "('a', ('a', 'b'), ('b', 'b', 'a')) and ('a', ('b', 'a'), ('b', 'b', 'a')) are not the same.\n",
      "\n",
      "Current cartesian product: (('a', 'b'), ('b', 'a'))\n",
      "\n",
      "('a', ('a', 'b'), ('b', 'b', 'a')) and ('a', ('b', 'a'), ('b', 'b', 'a')) are not the same.\n",
      "\n",
      "Current cartesian product: (('a', 'b'), ('b', 'b', 'a'))\n",
      "\n",
      "('a', ('a', 'b'), ('b', 'b', 'a')) and ('a', ('b', 'a'), ('b', 'b', 'a')) are not the same.\n",
      "\n",
      "Current cartesian product: (('b', 'b', 'a'), 'a')\n",
      "\n",
      "('a', ('a', 'b'), ('b', 'b', 'a')) and ('a', ('b', 'a'), ('b', 'b', 'a')) are not the same.\n",
      "\n",
      "Current cartesian product: (('b', 'b', 'a'), ('b', 'a'))\n",
      "\n",
      "('a', ('a', 'b'), ('b', 'b', 'a')) and ('a', ('b', 'a'), ('b', 'b', 'a')) are not the same.\n",
      "\n",
      "Current cartesian product: (('b', 'b', 'a'), ('b', 'b', 'a'))\n",
      "\n",
      "('a', ('a', 'b'), ('b', 'b', 'a')) and ('a', ('b', 'a'), ('b', 'b', 'a')) are not the same.\n",
      "\n",
      "Current cartesian product: ('a', 'a')\n",
      "\n",
      "('a', ('a', 'b'), ('b', 'b', 'a')) and ('a', ('b', 'a'), ('b', 'b', 'a')) are not the same.\n",
      "\n",
      "Current cartesian product: ('a', ('b', 'a'))\n",
      "\n",
      "('a', ('a', 'b'), ('b', 'b', 'a')) and ('a', ('b', 'a'), ('b', 'b', 'a')) are not the same.\n",
      "\n",
      "Current cartesian product: ('a', ('b', 'b', 'a'))\n",
      "\n",
      "('a', ('a', 'b'), ('b', 'b', 'a')) and ('a', ('b', 'a'), ('b', 'b', 'a')) are not the same.\n",
      "\n",
      "Current cartesian product: (('a', 'b'), 'a')\n",
      "\n",
      "('a', ('a', 'b'), ('b', 'b', 'a')) and ('a', ('b', 'a'), ('b', 'b', 'a')) are not the same.\n",
      "\n",
      "Current cartesian product: (('a', 'b'), ('b', 'a'))\n",
      "\n",
      "('a', ('a', 'b'), ('b', 'b', 'a')) and ('a', ('b', 'a'), ('b', 'b', 'a')) are not the same.\n",
      "\n",
      "Current cartesian product: (('a', 'b'), ('b', 'b', 'a'))\n",
      "\n",
      "('a', ('a', 'b'), ('b', 'b', 'a')) and ('a', ('b', 'a'), ('b', 'b', 'a')) are not the same.\n",
      "\n",
      "Current cartesian product: (('b', 'b', 'a'), 'a')\n",
      "\n",
      "('a', ('a', 'b'), ('b', 'b', 'a')) and ('a', ('b', 'a'), ('b', 'b', 'a')) are not the same.\n",
      "\n",
      "Current cartesian product: (('b', 'b', 'a'), ('b', 'a'))\n",
      "\n",
      "('a', ('a', 'b'), ('b', 'b', 'a')) and ('a', ('b', 'a'), ('b', 'b', 'a')) are not the same.\n",
      "\n",
      "Current cartesian product: (('b', 'b', 'a'), ('b', 'b', 'a'))\n",
      "\n",
      "('a', ('a', 'b'), ('b', 'b', 'a')) and ('a', ('b', 'a'), ('b', 'b', 'a')) are not the same.\n",
      "\n"
     ]
    }
   ],
   "source": [
    "# Call bpcp_solver passing the Lists and K\n",
    "bpcp_solver(L1, L2, K)"
   ]
  },
  {
   "cell_type": "markdown",
   "id": "7261d654-43b0-4826-92b5-24e5a2464bac",
   "metadata": {},
   "source": [
    "***\n",
    "\n",
    "<br>\n",
    "\n",
    "# References\n"
   ]
  },
  {
   "cell_type": "markdown",
   "id": "cbe37eb2-cb60-44be-bc87-a243d2852d94",
   "metadata": {
    "tags": []
   },
   "source": [
    "### Post Correspondence Problem\n",
    "\n",
    "***"
   ]
  },
  {
   "cell_type": "markdown",
   "id": "a81b1930-0da4-4341-9061-96b1820012fa",
   "metadata": {
    "jp-MarkdownHeadingCollapsed": true,
    "tags": []
   },
   "source": [
    "#### What is it?\n",
    "\n",
    "- https://en.wikipedia.org/wiki/Post_correspondence_problem\n",
    "- https://www.cis.upenn.edu/~jean/gbooks/PCPh04.pdf"
   ]
  },
  {
   "cell_type": "markdown",
   "id": "d7e4ef63-79fb-462a-a5df-41d5dbc5f7a2",
   "metadata": {},
   "source": [
    "#### What is an undecidable decision problem?\n",
    "\n",
    "- https://en.wikipedia.org/wiki/Undecidable_problem"
   ]
  },
  {
   "cell_type": "markdown",
   "id": "cf995b97-3900-4f52-9b91-c41223025f0d",
   "metadata": {},
   "source": [
    "#### What is a decision problem?\n",
    "\n",
    "- https://en.wikipedia.org/wiki/Decision_problem"
   ]
  },
  {
   "cell_type": "markdown",
   "id": "81ef848c-4262-4b7d-92b9-8ce10db03119",
   "metadata": {},
   "source": [
    "#### How to solve a decision problem?\n",
    "\n",
    "- https://en.wikipedia.org/wiki/Decision_problem"
   ]
  },
  {
   "cell_type": "markdown",
   "id": "b595c5b9-d5b3-40b4-9565-82cf010f08e6",
   "metadata": {},
   "source": [
    "#### What can be used to store the values?\n",
    "\n",
    "- https://www.geeksforgeeks.org/post-correspondence-problem/"
   ]
  },
  {
   "cell_type": "markdown",
   "id": "0c5259a2-49b9-4692-a215-d9acf3eb8767",
   "metadata": {
    "tags": []
   },
   "source": [
    "#### Sets\n",
    "\n",
    "- https://docs.python.org/3/tutorial/datastructures.html#sets"
   ]
  },
  {
   "cell_type": "markdown",
   "id": "b307cb09-cd73-4105-89db-6e6e6574b9fd",
   "metadata": {},
   "source": [
    "#### Tuples\n",
    "\n",
    "- https://docs.python.org/3/tutorial/datastructures.html#tuples-and-sequences"
   ]
  },
  {
   "cell_type": "markdown",
   "id": "e0502104-78d9-43b9-bd6e-d91143f4d532",
   "metadata": {},
   "source": [
    "#### Variants of Post Correspondence Problem\n",
    "\n",
    "- https://en.wikipedia.org/wiki/Post_correspondence_problem"
   ]
  },
  {
   "cell_type": "markdown",
   "id": "67b467a9-62a7-4121-8b34-f03d33152706",
   "metadata": {},
   "source": [
    "<br>\n",
    "\n",
    "### Bounded Post Correspondence Problem\n",
    "\n",
    "***"
   ]
  },
  {
   "cell_type": "markdown",
   "id": "9acaddf1-8023-4d6f-8239-0a787d0c2625",
   "metadata": {
    "jp-MarkdownHeadingCollapsed": true,
    "tags": []
   },
   "source": [
    "#### What is it?\n",
    "\n",
    "- https://en.wikipedia.org/wiki/Post_correspondence_problem\n",
    "- https://cs.stackexchange.com/questions/66023/what-is-k-in-the-bounded-post-correspondence-problem\n",
    "- https://citeseerx.ist.psu.edu/viewdoc/download?doi=10.1.1.297.5131&rep=rep1&type=pdf"
   ]
  },
  {
   "cell_type": "markdown",
   "id": "0865a4b0-8302-41cd-b65f-6f2e095fe7c2",
   "metadata": {},
   "source": [
    "#### NP-Complete\n",
    "\n",
    "- https://en.wikipedia.org/wiki/NP-completeness\n",
    "- https://citeseerx.ist.psu.edu/viewdoc/download?doi=10.1.1.297.5131&rep=rep1&type=pdf"
   ]
  },
  {
   "cell_type": "markdown",
   "id": "ec562cd3-e6c2-4d34-9e45-39eb00cffa28",
   "metadata": {},
   "source": [
    "#### Itertools\n",
    "\n",
    "- https://realpython.com/python-itertools/"
   ]
  },
  {
   "cell_type": "markdown",
   "id": "5e6bb445-13ad-4ad3-9d66-125947393ce1",
   "metadata": {},
   "source": [
    "<br>\n",
    "\n",
    "##### I have heavily relied on the Theory of Algorithms module content, created by Dr. Ian McLoughlin a lecturer in Atlantic Technological University."
   ]
  },
  {
   "cell_type": "markdown",
   "id": "b0d7b2a3-bbaf-40a6-ab8f-2d3b2cabe988",
   "metadata": {},
   "source": [
    "<br>\n",
    "\n",
    "***\n",
    "\n",
    "# END"
   ]
  }
 ],
 "metadata": {
  "kernelspec": {
   "display_name": "Python 3 (ipykernel)",
   "language": "python",
   "name": "python3"
  },
  "language_info": {
   "codemirror_mode": {
    "name": "ipython",
    "version": 3
   },
   "file_extension": ".py",
   "mimetype": "text/x-python",
   "name": "python",
   "nbconvert_exporter": "python",
   "pygments_lexer": "ipython3",
   "version": "3.9.7"
  }
 },
 "nbformat": 4,
 "nbformat_minor": 5
}
