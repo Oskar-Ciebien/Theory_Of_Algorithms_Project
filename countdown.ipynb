{
 "cells": [
  {
   "cell_type": "markdown",
   "id": "029a6179-c8e2-44a2-8c5c-f2ebcaa6ff2a",
   "metadata": {},
   "source": [
    "# Countdown Notebook\n",
    "\n",
    "***"
   ]
  },
  {
   "cell_type": "markdown",
   "id": "14fa8204-d36d-4f87-99e2-ad8a26843d74",
   "metadata": {},
   "source": [
    "<br>\n",
    "\n",
    "## What is the Countdown Game?\n",
    "\n",
    "***"
   ]
  },
  {
   "cell_type": "markdown",
   "id": "a82bd68b-f99f-4196-8e4a-cb9f5304383d",
   "metadata": {},
   "source": [
    "The Countdown Game is a British TV Show which originated from the French game show called \"Des chiffres et des lettres\" which translates to numbers and letters.\n",
    "\n",
    "This game involves tasks with words and numbers, but this notebook will only focus on the numbers part of the game."
   ]
  },
  {
   "cell_type": "markdown",
   "id": "187eebfb-5cb9-4f95-923e-bfa4e3381cbc",
   "metadata": {
    "jp-MarkdownHeadingCollapsed": true,
    "tags": []
   },
   "source": [
    "<br>\n",
    "\n",
    "### The Numbers Game"
   ]
  },
  {
   "cell_type": "markdown",
   "id": "68b27961-1285-439a-8547-76c1b8669795",
   "metadata": {},
   "source": [
    "In the numbers part of the countdown game, the player is given four operations:\n",
    "\n",
    "- Addition\n",
    "- Multiplication\n",
    "- Division\n",
    "- Substraction\n",
    "\n",
    "They need to pick **six** from the given **twenty-four number tiles**. These tiles are **arranged in two groups** twenty small numbers (i.e. one to ten) where each number can **repeat itself only once**, four large numbers - twenty five, fifty, seventy five and one hundred. These are the rules this notebook will use.\n",
    "\n",
    "The **target number** is also **given** to the player or players which is a **three digit number**.\n",
    "\n",
    "The player has then **half a minute** to work out their way **to hit the target number or get as close as possible to it**. There is **no requirement** for them **to use all six of the given numbers**, but they can **only use the four operations** mentioned above.\n",
    "\n",
    "The result **must** be a **positive integer**."
   ]
  },
  {
   "cell_type": "markdown",
   "id": "671184ff-7419-4d9b-ba5b-3cf1e7a7c546",
   "metadata": {
    "jp-MarkdownHeadingCollapsed": true,
    "tags": []
   },
   "source": [
    "<br>\n",
    "\n",
    "## What is the Complexity of the Numbers Game?\n",
    "\n",
    "***"
   ]
  },
  {
   "cell_type": "markdown",
   "id": "7c3a0330-c6de-4b9d-82a2-18adb765a070",
   "metadata": {},
   "source": [
    "There are many factors to consider when playing the numbers game. Some of these factors are:\n",
    "\n",
    "- **Rules** - Rules may differ, but any rules in any game are there to make the game more challenging to complete and fair for the competitors.\n",
    "- **Time** - The time that a task has to be completed in, does increase or decrease the difficulty of the task, and therefore is a major factor.\n",
    "- **Combinations** - The amount of combinations that could be done with the given numbers to achive the target number is a big factor to the complexity of this game."
   ]
  },
  {
   "cell_type": "markdown",
   "id": "eb01804f-46e2-4d8e-8a85-9d4312008e4a",
   "metadata": {
    "tags": []
   },
   "source": [
    "### Rules"
   ]
  },
  {
   "cell_type": "markdown",
   "id": "e6843c9e-4680-4634-9cc0-9403e41d1d53",
   "metadata": {},
   "source": [
    "Rules are there to be sticked with, to make the game fair so that no player will cheat, but they are also there to make the game more difficult for the players. In this game, the rules are:\n",
    "\n",
    "- No negative, decimal or fraction numbers.\n",
    "- Not all the numbers need to be used.\n",
    "- Each number can only be used once.\n",
    "- Thirty seconds to complete the calculation.\n",
    "- The player is to get as close as possible to the target number."
   ]
  },
  {
   "cell_type": "markdown",
   "id": "e7284e88-d17e-4a43-b0c5-db63a0589e42",
   "metadata": {
    "tags": []
   },
   "source": [
    "### Time"
   ]
  },
  {
   "cell_type": "markdown",
   "id": "ca4d5edf-79a1-4f25-ad7c-bbb140fe5995",
   "metadata": {},
   "source": [
    "When given only half a minute to complete multiple calculations is not an easy task. There is only so little we can do in that given time. In this game, the time is a great enemy."
   ]
  },
  {
   "cell_type": "markdown",
   "id": "7950acb4-9e87-45d7-9ff4-aef68b7de987",
   "metadata": {
    "tags": []
   },
   "source": [
    "#### The combinations of game numbers and operators increase the time complexity of this game.\n",
    "\n",
    "***"
   ]
  },
  {
   "cell_type": "code",
   "execution_count": 1,
   "id": "023d90ee-8036-42f4-b71f-949f7ea42803",
   "metadata": {},
   "outputs": [],
   "source": [
    "# Suppose we have five blank spaces in which to put the elements of L.\n",
    "#      _ _ _ _ _ \n",
    "# In the first position, we can put any of the five elements.\n",
    "# e.g. 3 _ _ _ _ \n",
    "# If we put 3 in the first position, then we have four elements remaining\n",
    "# to choose from for the second position.\n",
    "# e.g. 3 5 _ _ _\n",
    "# Then we have three elements left, and so on.\n",
    "# So, there are five choices for the first position.\n",
    "# For each of those choices there are four different choices for the second position.\n",
    "# Then for the third position there are three choices for each of those.\n",
    "# And so on."
   ]
  },
  {
   "cell_type": "code",
   "execution_count": 2,
   "id": "5f3ac424-c333-4e2c-98aa-dd2f8bff2b18",
   "metadata": {},
   "outputs": [
    {
     "data": {
      "text/plain": [
       "120"
      ]
     },
     "execution_count": 2,
     "metadata": {},
     "output_type": "execute_result"
    }
   ],
   "source": [
    "# Number of permutations of 5 operators is:\n",
    "5*4*3*2*1\n",
    "\n",
    "# In other words factorial of fix."
   ]
  },
  {
   "cell_type": "markdown",
   "id": "1e346af1-fd96-4bfc-9d99-3f118eed5b0e",
   "metadata": {},
   "source": [
    "The factorial of six is the number showing the maximum number of ways this game can take."
   ]
  },
  {
   "cell_type": "code",
   "execution_count": 3,
   "id": "d3a32c2e-606d-4b85-bb0e-b46ab402aab5",
   "metadata": {},
   "outputs": [
    {
     "data": {
      "text/plain": [
       "720"
      ]
     },
     "execution_count": 3,
     "metadata": {},
     "output_type": "execute_result"
    }
   ],
   "source": [
    "# The number of permutations grows as n factorial as the length of a list of length n grows.\n",
    "import math\n",
    "\n",
    "# Factorial of Six\n",
    "math.factorial(6)"
   ]
  },
  {
   "cell_type": "code",
   "execution_count": 4,
   "id": "5e508ba7-2f7b-41f9-87a7-d49f558b3481",
   "metadata": {},
   "outputs": [
    {
     "data": {
      "image/png": "[encoded data removed]",
      "text/plain": [
       "<Figure size 1008x432 with 1 Axes>"
      ]
     },
     "metadata": {
      "needs_background": "light"
     },
     "output_type": "display_data"
    }
   ],
   "source": [
    "# A picture of the factorial function for perspective.\n",
    "\n",
    "# Imports\n",
    "import matplotlib.pyplot as plt\n",
    "import numpy as np\n",
    "import scipy.special as sm\n",
    "\n",
    "# Plot Params\n",
    "plt.rcParams['figure.figsize'] = (14, 6)\n",
    "\n",
    "x = np.linspace(1.0, 10.0, 1000)\n",
    "y0 = 3*x\n",
    "y1 = x**3\n",
    "y2 = 3**x\n",
    "y3 = sm.factorial(x)\n",
    "\n",
    "# Plot\n",
    "plt.plot(x, y0, label='$3x$')\n",
    "plt.plot(x, y1, label='$x^3$')\n",
    "plt.plot(x, y2, label='$3^x$')\n",
    "plt.plot(x, y3, label='$x!$')\n",
    "\n",
    "# Show the Legend\n",
    "plt.legend()\n",
    "\n",
    "# Display the graph\n",
    "plt.show()"
   ]
  },
  {
   "cell_type": "markdown",
   "id": "6c05609b-e768-4aa2-a5e6-bc044b2066b4",
   "metadata": {
    "tags": []
   },
   "source": [
    "### Combinations"
   ]
  },
  {
   "cell_type": "markdown",
   "id": "f22a56e2-b3f3-410d-b3df-cfa33ee3ee53",
   "metadata": {},
   "source": [
    "Given the fact that the player is given six numbers:\n",
    "\n",
    "- Two times small numbers (one to ten repeated only once).\n",
    "- Four times large numbers (twenty five, fifty, seventy five and one hundred).\n",
    "\n",
    "For example, if the set of numbers that the player is given are:"
   ]
  },
  {
   "cell_type": "code",
   "execution_count": 5,
   "id": "c535f801-3231-4d53-b792-28bcfe5c9242",
   "metadata": {},
   "outputs": [
    {
     "data": {
      "text/plain": [
       "(75, 50, 6, 9, 8, 1)"
      ]
     },
     "execution_count": 5,
     "metadata": {},
     "output_type": "execute_result"
    }
   ],
   "source": [
    "75, 50, 6, 9, 8, 1"
   ]
  },
  {
   "cell_type": "markdown",
   "id": "391597d4-2e3e-4324-bab3-a27c609478a4",
   "metadata": {},
   "source": [
    "And a randomly generated target number:"
   ]
  },
  {
   "cell_type": "code",
   "execution_count": 6,
   "id": "43922259-526d-48b4-89b9-38a829a1a7c7",
   "metadata": {},
   "outputs": [
    {
     "data": {
      "text/plain": [
       "716"
      ]
     },
     "execution_count": 6,
     "metadata": {},
     "output_type": "execute_result"
    }
   ],
   "source": [
    "716"
   ]
  },
  {
   "cell_type": "markdown",
   "id": "937f8472-7f5a-4f33-8220-35ba8e29ff0e",
   "metadata": {},
   "source": [
    "The player has to then make many calculations in order to get the target number or get as close as possible to it. This shows how complex this game is, just before even starting the game."
   ]
  },
  {
   "cell_type": "markdown",
   "id": "a0df76d4-e4dc-4d6b-99cc-b626c97a03a0",
   "metadata": {},
   "source": [
    "#### One of the ways to reduce the complexity of this game, would be to use the Reverse Polish Notation, which is discussed below."
   ]
  },
  {
   "cell_type": "markdown",
   "id": "a81de240-ce26-4f29-a2d7-5ea63e26cc01",
   "metadata": {},
   "source": [
    "<br>\n",
    "\n",
    "## Reverse Polish Notation\n",
    "\n",
    "***"
   ]
  },
  {
   "cell_type": "markdown",
   "id": "c12e65a3-f38b-4dd6-a543-12d618faa290",
   "metadata": {},
   "source": [
    "The Reverse Polish Notation (RPN) has many names, it is also known as Reverse Łukasiewicz Notation, Polish Postfix Notation or Simply Postfix Notation. It is a mathematical notation where the operators follow their operands. \"In computer science, reverse Polish notation is used in stack-oriented programming languages such as Forth, STOIC, PostScript, RPL and Joy\"."
   ]
  },
  {
   "cell_type": "markdown",
   "id": "47cf34e9-fbfa-45d1-8b94-50b1ad9b472d",
   "metadata": {
    "tags": []
   },
   "source": [
    "### History of Reverse Polish Notation"
   ]
  },
  {
   "cell_type": "markdown",
   "id": "d2e8f73a-834c-4970-94f6-e2d516df2aac",
   "metadata": {},
   "source": [
    "It got the \"Polish\" in the name, because of the nationality of the logician who invented this notation whose name is Jan Łukasiewicz. It has been invented in 1924. It was proposed in 1954 by Arthur Burks, Don Warren and then reinvented by Friedrich L. Bauer and Edsger W. Dijkstra in the 1960s in order to reduce computer memory access and to use the stack to evaluate expressions. During the 1970s and 1980s the company called Hewlet-Packard used Reversed Polish Notation in all of their desktop and physical calculators. It still continues to use this in some models."
   ]
  },
  {
   "cell_type": "markdown",
   "id": "91f01102-47b9-48d7-968b-ed8e32ae2f02",
   "metadata": {},
   "source": [
    "### Examples of Reverse Polish Notation below"
   ]
  },
  {
   "cell_type": "code",
   "execution_count": 7,
   "id": "59a9a0ad-3c48-41c6-ac92-b73d6611eaf2",
   "metadata": {},
   "outputs": [
    {
     "data": {
      "text/plain": [
       "23"
      ]
     },
     "execution_count": 7,
     "metadata": {},
     "output_type": "execute_result"
    }
   ],
   "source": [
    "# RPN: 3 4 5 * +\n",
    "3 + 4 * 5"
   ]
  },
  {
   "cell_type": "code",
   "execution_count": 8,
   "id": "331201a6-6d48-4ea9-9fa7-83a07571f989",
   "metadata": {},
   "outputs": [
    {
     "data": {
      "text/plain": [
       "35"
      ]
     },
     "execution_count": 8,
     "metadata": {},
     "output_type": "execute_result"
    }
   ],
   "source": [
    "# RPN: 3 4 + 5 *\n",
    "(3 + 4) * 5"
   ]
  },
  {
   "cell_type": "markdown",
   "id": "c66c4fb0-9f8d-4077-8ea5-734e9572757a",
   "metadata": {},
   "source": [
    "### Why is it good?"
   ]
  },
  {
   "cell_type": "markdown",
   "id": "3ab98b23-f74a-4e83-a834-67f23f0fab4b",
   "metadata": {},
   "source": [
    "Thanks to the design and simplicity, Reverse Polish Notation has been found to provide faster calculations when compared to algebraic notation. There are two reasons for this statement:\n",
    "\n",
    "1. Reverse Polish Notation calculators made less mistakes than any other calculators.\n",
    "2. These calculators did not need expressions to be parenthesized, which led to fewer operations being needed to perform typical calculations.\n",
    "3. It saves the compiler or the interpreter a lot of effort, therefore it is easier on the computer and for this example it reduces the complexity of the Countdown Numbers Game."
   ]
  },
  {
   "cell_type": "markdown",
   "id": "579d3eff-f1f3-42b5-b9d3-b88b0df7a210",
   "metadata": {},
   "source": [
    "***"
   ]
  },
  {
   "cell_type": "markdown",
   "id": "b3bb2c45-5276-40a1-9cfe-245f2134a525",
   "metadata": {},
   "source": [
    "<br>\n",
    "\n",
    "# Itertools\n",
    "\n",
    "***"
   ]
  },
  {
   "cell_type": "code",
   "execution_count": 9,
   "id": "a2df59da-d278-4d98-8d24-e74d379bf233",
   "metadata": {},
   "outputs": [],
   "source": [
    "# From the Python Standard Library.\n",
    "# Permutations and combinations.\n",
    "import itertools as it"
   ]
  },
  {
   "cell_type": "code",
   "execution_count": 10,
   "id": "78d660e2-2a37-4178-95ea-169d350b94d2",
   "metadata": {},
   "outputs": [
    {
     "name": "stdout",
     "output_type": "stream",
     "text": [
      "(1, 2, 3)\n",
      "(1, 3, 2)\n",
      "(2, 1, 3)\n",
      "(2, 3, 1)\n",
      "(3, 1, 2)\n",
      "(3, 2, 1)\n"
     ]
    }
   ],
   "source": [
    "# All permutations of the list [1,2,3].\n",
    "for p in it.permutations([1, 2, 3]):\n",
    "  print(p)"
   ]
  },
  {
   "cell_type": "code",
   "execution_count": 11,
   "id": "1d319ac7-f0c5-4882-bf8a-32e731f99d29",
   "metadata": {},
   "outputs": [
    {
     "name": "stdout",
     "output_type": "stream",
     "text": [
      "(1, 2, 3, 4, 5, 6, 7)\n"
     ]
    }
   ],
   "source": [
    "# A terrible sorting algorithm - O(n!).\n",
    "# Search for the sorted permutation of 7 element list.\n",
    "for p in it.permutations([7, 2, 1, 6, 4, 5, 3]):\n",
    "  # Check if permutation is sorted.\n",
    "  if p[0] <= p[1] and p[1] <= p[2] and p[2] <= p[3] and p[3] <= p[4] and p[4] <= p[5] and p[5] <= p[6]:\n",
    "    # Print the permutation.\n",
    "    print(p)"
   ]
  },
  {
   "cell_type": "markdown",
   "id": "57a4aabb-ff5a-4f30-bd48-3216a595418c",
   "metadata": {},
   "source": [
    "<br>\n",
    "\n",
    "# Permutations\n",
    "\n",
    "***"
   ]
  },
  {
   "cell_type": "code",
   "execution_count": 12,
   "id": "b17f3afa-b8a4-49b3-a81f-04683ea262e0",
   "metadata": {},
   "outputs": [],
   "source": [
    "# A list of five (distinct) elements.\n",
    "L = [1, 2, 3, 4, 5]"
   ]
  },
  {
   "cell_type": "code",
   "execution_count": 13,
   "id": "af310911-573b-4361-ae07-fedda046d421",
   "metadata": {},
   "outputs": [],
   "source": [
    "# A permutation of the list L.\n",
    "M = [2, 1, 3, 4, 5]"
   ]
  },
  {
   "cell_type": "code",
   "execution_count": 14,
   "id": "719a12b8-1859-4a08-ad8b-2b568b0a0ab2",
   "metadata": {},
   "outputs": [],
   "source": [
    "# Another permutation.\n",
    "N = [5, 2, 1, 3, 4]"
   ]
  },
  {
   "cell_type": "markdown",
   "id": "c835a16e-bd17-4715-bf02-7c035aa332c6",
   "metadata": {},
   "source": [
    "<br>\n",
    "\n",
    "# Countdown Numbers Game\n",
    "\n",
    "***"
   ]
  },
  {
   "cell_type": "code",
   "execution_count": 15,
   "id": "c22e8072-8198-428d-b6f0-fe576bcdee51",
   "metadata": {},
   "outputs": [],
   "source": [
    "# Imports\n",
    "\n",
    "# Random number generation.\n",
    "import random\n",
    "\n",
    "# Operators as functions.\n",
    "import operator"
   ]
  },
  {
   "cell_type": "markdown",
   "id": "59853cb3-e451-4861-9073-b26bef979827",
   "metadata": {},
   "source": [
    "<br>\n",
    "\n",
    "## Simulate a Numbers Game\n",
    "\n",
    "***"
   ]
  },
  {
   "cell_type": "code",
   "execution_count": 16,
   "id": "6fef8ef4-22ca-4643-8ed4-12ebd0f96370",
   "metadata": {},
   "outputs": [
    {
     "data": {
      "text/plain": [
       "[25, 50, 75, 100]"
      ]
     },
     "execution_count": 16,
     "metadata": {},
     "output_type": "execute_result"
    }
   ],
   "source": [
    "# The large numbers.\n",
    "large = [25, 50, 75, 100]\n",
    "large"
   ]
  },
  {
   "cell_type": "code",
   "execution_count": 17,
   "id": "b3878622-a8eb-4d3f-95d6-cad66265365d",
   "metadata": {},
   "outputs": [
    {
     "data": {
      "text/plain": [
       "[1, 2, 3, 4, 5, 6, 7, 8, 9, 10, 1, 2, 3, 4, 5, 6, 7, 8, 9, 10]"
      ]
     },
     "execution_count": 17,
     "metadata": {},
     "output_type": "execute_result"
    }
   ],
   "source": [
    "# The small numbers.\n",
    "small = list(range(1, 11)) * 2\n",
    "small"
   ]
  },
  {
   "cell_type": "code",
   "execution_count": 18,
   "id": "a8017cff-96f0-4522-bc99-f99df8237214",
   "metadata": {},
   "outputs": [
    {
     "data": {
      "text/plain": [
       "2"
      ]
     },
     "execution_count": 18,
     "metadata": {},
     "output_type": "execute_result"
    }
   ],
   "source": [
    "# The number of large numbers to pick - between 1 and 4 inclusive.\n",
    "no_large = random.randrange(1, 5)\n",
    "no_large"
   ]
  },
  {
   "cell_type": "code",
   "execution_count": 19,
   "id": "8cfbe7c2-9920-442e-b111-1855430daeeb",
   "metadata": {},
   "outputs": [
    {
     "data": {
      "text/plain": [
       "[100, 50]"
      ]
     },
     "execution_count": 19,
     "metadata": {},
     "output_type": "execute_result"
    }
   ],
   "source": [
    "# Select no_large large numbers at random.\n",
    "def large_random():\n",
    "    large_rand = random.sample(large, no_large)\n",
    "    return large_rand\n",
    "\n",
    "# Call to display the numbers.\n",
    "large_random()"
   ]
  },
  {
   "cell_type": "code",
   "execution_count": 20,
   "id": "19575ba1-1673-4126-b895-aceb55037445",
   "metadata": {},
   "outputs": [
    {
     "data": {
      "text/plain": [
       "[6, 8, 8, 7]"
      ]
     },
     "execution_count": 20,
     "metadata": {},
     "output_type": "execute_result"
    }
   ],
   "source": [
    "# Select (6 - no_large) small numbers at random.\n",
    "def small_random():\n",
    "    small_rand = random.sample(small, 6 - no_large)\n",
    "    return small_rand\n",
    "\n",
    "# Call to display them.\n",
    "small_random()"
   ]
  },
  {
   "cell_type": "code",
   "execution_count": 21,
   "id": "e1c0833c-b340-46fc-9d39-742fd195cb91",
   "metadata": {},
   "outputs": [
    {
     "data": {
      "text/plain": [
       "[100, 75, 5, 2, 8, 7]"
      ]
     },
     "execution_count": 21,
     "metadata": {},
     "output_type": "execute_result"
    }
   ],
   "source": [
    "# The six random numbers in a list.\n",
    "play_nos = large_random() + small_random()\n",
    "\n",
    "# Display them.\n",
    "play_nos"
   ]
  },
  {
   "cell_type": "code",
   "execution_count": 22,
   "id": "4f948284-db32-48ea-aa6f-5e8753bcd698",
   "metadata": {},
   "outputs": [
    {
     "data": {
      "text/plain": [
       "139"
      ]
     },
     "execution_count": 22,
     "metadata": {},
     "output_type": "execute_result"
    }
   ],
   "source": [
    "# Pick a random target number.\n",
    "def target_num():\n",
    "    target = random.randrange(101, 1000)\n",
    "    return target\n",
    "\n",
    "# Call the target_num() to display the target number\n",
    "target_num()"
   ]
  },
  {
   "cell_type": "code",
   "execution_count": 23,
   "id": "5eb45060-621b-4912-8ac8-58622102be89",
   "metadata": {},
   "outputs": [],
   "source": [
    "# == New Game ==\n",
    "def new_numbers_game(no_large=None):\n",
    "  \"\"\" Returns six numbers and a target number representing a Countdown numbers game.\n",
    "  \"\"\"\n",
    "  # If no_large in None, randomly pick value between 0 and 4 inclusive.\n",
    "  if no_large is None:\n",
    "    # Randomly set the value.\n",
    "    no_large = random.randrange(0, 5)\n",
    "  \n",
    "  # Select random large numbers.\n",
    "  large_rand = random.sample([25, 50, 75, 100], no_large)\n",
    "  # Select random small numbers.\n",
    "  small_rand = random.sample(list(range(1, 11)) * 2, 6 - no_large)\n",
    "  # The playing numbers.\n",
    "  play_nos = large_random() + small_random()\n",
    "\n",
    "  # Select a target number.\n",
    "  target = random.randrange(101, 1000)\n",
    "\n",
    "  # Return the game.\n",
    "  return play_nos, target"
   ]
  },
  {
   "cell_type": "code",
   "execution_count": 24,
   "id": "f008d5eb-906d-4a11-a559-92adf222e9d2",
   "metadata": {},
   "outputs": [
    {
     "data": {
      "text/plain": [
       "([100, 25, 8, 1, 8, 5], 178)"
      ]
     },
     "execution_count": 24,
     "metadata": {},
     "output_type": "execute_result"
    }
   ],
   "source": [
    "# Random nubmers game.\n",
    "new_numbers_game()"
   ]
  },
  {
   "cell_type": "markdown",
   "id": "e089b5c1-70ec-4745-882e-8e295aae723b",
   "metadata": {},
   "source": [
    "<br>\n",
    "\n",
    "## Working Towards a Solution\n",
    "\n",
    "***"
   ]
  },
  {
   "cell_type": "code",
   "execution_count": 25,
   "id": "cab81a52-04f5-46e4-bd9c-3db1967d5ac3",
   "metadata": {},
   "outputs": [
    {
     "name": "stdout",
     "output_type": "stream",
     "text": [
      "Numbers: [25, 100, 8, 1, 10, 10]\n",
      "Target Number: 269\n"
     ]
    }
   ],
   "source": [
    "# A new example game.\n",
    "play_nos, target = new_numbers_game()\n",
    "\n",
    "# Print outs.\n",
    "print(\"Numbers:\", play_nos)\n",
    "print(\"Target Number:\", target)"
   ]
  },
  {
   "cell_type": "markdown",
   "id": "5bab2e52-0d95-4040-82f8-2f58b7d54b67",
   "metadata": {},
   "source": [
    "<br>\n",
    "\n",
    "#### This is an example of two playing numbers and operators.\n",
    "\n",
    "If there was more than two playing numbers for example six, which is the amount of playing numbers for this game. The permutation would be massively increased."
   ]
  },
  {
   "cell_type": "code",
   "execution_count": 26,
   "id": "f6a185e0-7cc5-4800-a9f2-9b476037b452",
   "metadata": {},
   "outputs": [
    {
     "name": "stdout",
     "output_type": "stream",
     "text": [
      "(25, 100)\n",
      "25 + 100 = 125\n",
      "25 * 100 = 2500\n",
      "\n",
      "(25, 8)\n",
      "25 + 8 = 33\n",
      "25 * 8 = 200\n",
      "25 - 8 = 17\n",
      "\n",
      "(25, 1)\n",
      "25 + 1 = 26\n",
      "25 * 1 = 25\n",
      "25 - 1 = 24\n",
      "25 / 1 = 25\n",
      "\n",
      "(25, 10)\n",
      "25 + 10 = 35\n",
      "25 * 10 = 250\n",
      "25 - 10 = 15\n",
      "\n",
      "(25, 10)\n",
      "25 + 10 = 35\n",
      "25 * 10 = 250\n",
      "25 - 10 = 15\n",
      "\n",
      "(100, 25)\n",
      "100 + 25 = 125\n",
      "100 * 25 = 2500\n",
      "100 - 25 = 75\n",
      "100 / 25 = 4\n",
      "\n",
      "(100, 8)\n",
      "100 + 8 = 108\n",
      "100 * 8 = 800\n",
      "100 - 8 = 92\n",
      "\n",
      "(100, 1)\n",
      "100 + 1 = 101\n",
      "100 * 1 = 100\n",
      "100 - 1 = 99\n",
      "100 / 1 = 100\n",
      "\n",
      "(100, 10)\n",
      "100 + 10 = 110\n",
      "100 * 10 = 1000\n",
      "100 - 10 = 90\n",
      "100 / 10 = 10\n",
      "\n",
      "(100, 10)\n",
      "100 + 10 = 110\n",
      "100 * 10 = 1000\n",
      "100 - 10 = 90\n",
      "100 / 10 = 10\n",
      "\n",
      "(8, 25)\n",
      "8 + 25 = 33\n",
      "8 * 25 = 200\n",
      "\n",
      "(8, 100)\n",
      "8 + 100 = 108\n",
      "8 * 100 = 800\n",
      "\n",
      "(8, 1)\n",
      "8 + 1 = 9\n",
      "8 * 1 = 8\n",
      "8 - 1 = 7\n",
      "8 / 1 = 8\n",
      "\n",
      "(8, 10)\n",
      "8 + 10 = 18\n",
      "8 * 10 = 80\n",
      "\n",
      "(8, 10)\n",
      "8 + 10 = 18\n",
      "8 * 10 = 80\n",
      "\n",
      "(1, 25)\n",
      "1 + 25 = 26\n",
      "1 * 25 = 25\n",
      "\n",
      "(1, 100)\n",
      "1 + 100 = 101\n",
      "1 * 100 = 100\n",
      "\n",
      "(1, 8)\n",
      "1 + 8 = 9\n",
      "1 * 8 = 8\n",
      "\n",
      "(1, 10)\n",
      "1 + 10 = 11\n",
      "1 * 10 = 10\n",
      "\n",
      "(1, 10)\n",
      "1 + 10 = 11\n",
      "1 * 10 = 10\n",
      "\n",
      "(10, 25)\n",
      "10 + 25 = 35\n",
      "10 * 25 = 250\n",
      "\n",
      "(10, 100)\n",
      "10 + 100 = 110\n",
      "10 * 100 = 1000\n",
      "\n",
      "(10, 8)\n",
      "10 + 8 = 18\n",
      "10 * 8 = 80\n",
      "10 - 8 = 2\n",
      "\n",
      "(10, 1)\n",
      "10 + 1 = 11\n",
      "10 * 1 = 10\n",
      "10 - 1 = 9\n",
      "10 / 1 = 10\n",
      "\n",
      "(10, 10)\n",
      "10 + 10 = 20\n",
      "10 * 10 = 100\n",
      "10 / 10 = 1\n",
      "\n",
      "(10, 25)\n",
      "10 + 25 = 35\n",
      "10 * 25 = 250\n",
      "\n",
      "(10, 100)\n",
      "10 + 100 = 110\n",
      "10 * 100 = 1000\n",
      "\n",
      "(10, 8)\n",
      "10 + 8 = 18\n",
      "10 * 8 = 80\n",
      "10 - 8 = 2\n",
      "\n",
      "(10, 1)\n",
      "10 + 1 = 11\n",
      "10 * 1 = 10\n",
      "10 - 1 = 9\n",
      "10 / 1 = 10\n",
      "\n",
      "(10, 10)\n",
      "10 + 10 = 20\n",
      "10 * 10 = 100\n",
      "10 / 10 = 1\n",
      "\n"
     ]
    }
   ],
   "source": [
    "# Looping through all permutations of two playing numbers.\n",
    "for p in it.permutations(play_nos, 2):\n",
    "  # Print the two numbers.\n",
    "  print(p)\n",
    "  # Print their sum.\n",
    "  print(f'{p[0]} + {p[1]} = {p[0]+p[1]}')\n",
    "  # Print their product.\n",
    "  print(f'{p[0]} * {p[1]} = {p[0]*p[1]}')\n",
    "  # Print their difference if it is positive.\n",
    "  if p[0] - p[1] > 0:\n",
    "    print(f'{p[0]} - {p[1]} = {p[0]-p[1]}')\n",
    "  # Print their quotient if it is an integer.\n",
    "  if p[0] % p[1] == 0:\n",
    "    print(f'{p[0]} / {p[1]} = {p[0]//p[1]}')\n",
    "  # Print a blank line.\n",
    "  print()"
   ]
  },
  {
   "cell_type": "markdown",
   "id": "1fa47a66-404b-404b-86d4-18dbde36ad2e",
   "metadata": {},
   "source": [
    "<br>\n",
    "\n",
    "## Permutations and Combinations\n",
    "\n",
    "***"
   ]
  },
  {
   "cell_type": "code",
   "execution_count": 27,
   "id": "0b570ac3-21d1-432d-af6f-698741a0d046",
   "metadata": {},
   "outputs": [
    {
     "name": "stdout",
     "output_type": "stream",
     "text": [
      "(1, 2)\n",
      "(1, 3)\n",
      "(1, 4)\n",
      "(2, 3)\n",
      "(2, 4)\n",
      "(3, 4)\n"
     ]
    }
   ],
   "source": [
    "# Example of combinations.\n",
    "# Order matters: no. Replacement: no.\n",
    "L = [1, 2, 3, 4]\n",
    "for c in it.combinations(L, 2):\n",
    "  print(c)"
   ]
  },
  {
   "cell_type": "code",
   "execution_count": 28,
   "id": "03541034-918f-4b44-9e54-6841883c0446",
   "metadata": {},
   "outputs": [
    {
     "name": "stdout",
     "output_type": "stream",
     "text": [
      "(1, 1)\n",
      "(1, 2)\n",
      "(1, 3)\n",
      "(1, 4)\n",
      "(2, 2)\n",
      "(2, 3)\n",
      "(2, 4)\n",
      "(3, 3)\n",
      "(3, 4)\n",
      "(4, 4)\n"
     ]
    }
   ],
   "source": [
    "# Example of combinations with replacement.\n",
    "# Order matters: no. Replacement: yes.\n",
    "L = [1, 2, 3, 4]\n",
    "for c in it.combinations_with_replacement(L, 2):\n",
    "  print(c)"
   ]
  },
  {
   "cell_type": "code",
   "execution_count": 29,
   "id": "3738352a-4bbd-4dd1-a4cb-04f1d3b6d2f6",
   "metadata": {},
   "outputs": [
    {
     "name": "stdout",
     "output_type": "stream",
     "text": [
      "(1, 2)\n",
      "(1, 3)\n",
      "(1, 4)\n",
      "(2, 1)\n",
      "(2, 3)\n",
      "(2, 4)\n",
      "(3, 1)\n",
      "(3, 2)\n",
      "(3, 4)\n",
      "(4, 1)\n",
      "(4, 2)\n",
      "(4, 3)\n"
     ]
    }
   ],
   "source": [
    "# Example of permutations of size 2.\n",
    "# Order matters: yes. Replacement: no.\n",
    "L = [1, 2, 3, 4]\n",
    "for c in it.permutations(L, 2):\n",
    "  print(c)"
   ]
  },
  {
   "cell_type": "code",
   "execution_count": 30,
   "id": "6343cca4-9229-4f57-adf4-2ce4948c87bf",
   "metadata": {},
   "outputs": [
    {
     "name": "stdout",
     "output_type": "stream",
     "text": [
      "(1, 1)\n",
      "(1, 2)\n",
      "(1, 3)\n",
      "(1, 4)\n",
      "(2, 1)\n",
      "(2, 2)\n",
      "(2, 3)\n",
      "(2, 4)\n",
      "(3, 1)\n",
      "(3, 2)\n",
      "(3, 3)\n",
      "(3, 4)\n",
      "(4, 1)\n",
      "(4, 2)\n",
      "(4, 3)\n",
      "(4, 4)\n"
     ]
    }
   ],
   "source": [
    "# Example of products of length 2.\n",
    "# Order matters: yes. Replacement: yes.\n",
    "L = [1, 2, 3, 4]\n",
    "for c in it.product(L, repeat=2):\n",
    "  print(c)"
   ]
  },
  {
   "cell_type": "code",
   "execution_count": 31,
   "id": "9f8ad6fe-fa6d-49ac-9903-e7a6bb912fea",
   "metadata": {},
   "outputs": [
    {
     "name": "stdout",
     "output_type": "stream",
     "text": [
      "(<built-in function add>, <built-in function add>, <built-in function add>, <built-in function add>, <built-in function add>)\n",
      "(<built-in function add>, <built-in function add>, <built-in function add>, <built-in function add>, <built-in function mul>)\n",
      "(<built-in function add>, <built-in function add>, <built-in function add>, <built-in function add>, <built-in function sub>)\n",
      "(<built-in function add>, <built-in function add>, <built-in function add>, <built-in function add>, <built-in function truediv>)\n",
      "(<built-in function add>, <built-in function add>, <built-in function add>, <built-in function mul>, <built-in function add>)\n",
      "(<built-in function add>, <built-in function add>, <built-in function add>, <built-in function mul>, <built-in function mul>)\n",
      "(<built-in function add>, <built-in function add>, <built-in function add>, <built-in function mul>, <built-in function sub>)\n",
      "(<built-in function add>, <built-in function add>, <built-in function add>, <built-in function mul>, <built-in function truediv>)\n",
      "(<built-in function add>, <built-in function add>, <built-in function add>, <built-in function sub>, <built-in function add>)\n",
      "(<built-in function add>, <built-in function add>, <built-in function add>, <built-in function sub>, <built-in function mul>)\n"
     ]
    }
   ],
   "source": [
    "# Using product to generate all lists of five operations.\n",
    "# Used a limit as there is a big number\n",
    "ops = [operator.add, operator.mul, operator.sub, operator.truediv]\n",
    "limit = 10\n",
    "for q in it.product(ops, repeat=5):\n",
    "  if limit == 0:\n",
    "    break\n",
    "  print(q)\n",
    "  limit = limit - 1"
   ]
  },
  {
   "cell_type": "markdown",
   "id": "8e0ac981-97f3-4e43-8f96-a27e77f5cdbe",
   "metadata": {},
   "source": [
    "<br>\n",
    "\n",
    "## Game\n",
    "\n",
    "***"
   ]
  },
  {
   "cell_type": "code",
   "execution_count": 32,
   "id": "6d65e49d-420a-43cf-96e6-7e6946d99e2a",
   "metadata": {},
   "outputs": [
    {
     "data": {
      "text/plain": [
       "([25, 50, 9, 3, 7, 8], 254)"
      ]
     },
     "execution_count": 32,
     "metadata": {},
     "output_type": "execute_result"
    }
   ],
   "source": [
    "# New random numbers game.\n",
    "play_nos, target = new_numbers_game()\n",
    "play_nos, target"
   ]
  },
  {
   "cell_type": "code",
   "execution_count": 33,
   "id": "8d2b2cbe-f01d-4da5-aefb-f8e9aa059452",
   "metadata": {},
   "outputs": [
    {
     "name": "stdout",
     "output_type": "stream",
     "text": [
      "(25, 50)\n",
      "(25, 9)\n",
      "(25, 3)\n",
      "(25, 7)\n",
      "(25, 8)\n",
      "(50, 25)\n",
      "(50, 9)\n",
      "(50, 3)\n",
      "(50, 7)\n",
      "(50, 8)\n",
      "(9, 25)\n",
      "(9, 50)\n",
      "(9, 3)\n",
      "(9, 7)\n",
      "(9, 8)\n",
      "(3, 25)\n",
      "(3, 50)\n",
      "(3, 9)\n",
      "(3, 7)\n",
      "(3, 8)\n",
      "(7, 25)\n",
      "(7, 50)\n",
      "(7, 9)\n",
      "(7, 3)\n",
      "(7, 8)\n",
      "(8, 25)\n",
      "(8, 50)\n",
      "(8, 9)\n",
      "(8, 3)\n",
      "(8, 7)\n"
     ]
    }
   ],
   "source": [
    "# Orderings of pairs.\n",
    "for pair in it.permutations(play_nos, 2):\n",
    "  print(pair)"
   ]
  },
  {
   "cell_type": "code",
   "execution_count": 34,
   "id": "7674208c-639f-4ede-bc53-e10283191a53",
   "metadata": {},
   "outputs": [
    {
     "name": "stdout",
     "output_type": "stream",
     "text": [
      "22.7 µs ± 148 ns per loop (mean ± std. dev. of 7 runs, 10000 loops each)\n"
     ]
    }
   ],
   "source": [
    "%%timeit\n",
    "\n",
    "# Change the target to be something that will work for just two numbers.\n",
    "target = max(play_nos) * min(play_nos)\n",
    "target\n",
    "\n",
    "# Operators.\n",
    "ops = [operator.add, operator.sub, operator.mul, operator.truediv]\n",
    "\n",
    "def hits_target(z):\n",
    "  nos, op = z\n",
    "  return (op(nos[0], nos[1]) == target)\n",
    "\n",
    "# All pair, op combs that hit target.\n",
    "list(filter(hits_target, it.product(it.permutations(play_nos, 2), ops)))"
   ]
  },
  {
   "cell_type": "code",
   "execution_count": 35,
   "id": "82ddb809-1d43-4760-b453-f436c57dfa3e",
   "metadata": {},
   "outputs": [
    {
     "data": {
      "text/plain": [
       "[]"
      ]
     },
     "execution_count": 35,
     "metadata": {},
     "output_type": "execute_result"
    }
   ],
   "source": [
    "# All pair, op combs that hit target.\n",
    "list(filter(lambda z: z[1](z[0][0], z[0][1]) == target, it.product(it.permutations(play_nos, 2), ops)))"
   ]
  },
  {
   "cell_type": "code",
   "execution_count": 36,
   "id": "abe6ec44-97c9-4db3-b3e2-78d10541e6e6",
   "metadata": {},
   "outputs": [],
   "source": [
    "# Operators.\n",
    "ops = [operator.add, operator.sub, operator.mul, operator.truediv]\n",
    "\n",
    "# Limit the output.\n",
    "limit = 1100\n",
    "\n",
    "# For the limit.\n",
    "i = 0\n",
    "# Orderings of pairs.\n",
    "for play_nos, opers in it.product(it.permutations(play_nos), it.product(*([ops] * 5))):\n",
    "  #print(play_nos, opers)\n",
    "  i = i + 1\n",
    "  if i >= limit:\n",
    "    break"
   ]
  },
  {
   "cell_type": "code",
   "execution_count": 37,
   "id": "7fedd6ca-bc79-4368-8e62-dd9aff018845",
   "metadata": {},
   "outputs": [
    {
     "data": {
      "text/plain": [
       "1024"
      ]
     },
     "execution_count": 37,
     "metadata": {},
     "output_type": "execute_result"
    }
   ],
   "source": [
    "# Number of combinations of five operators with replacement.\n",
    "4**5"
   ]
  },
  {
   "cell_type": "code",
   "execution_count": 38,
   "id": "72a099de-6aa6-48b1-ad75-f1ce1ed15f82",
   "metadata": {},
   "outputs": [
    {
     "data": {
      "text/plain": [
       "720"
      ]
     },
     "execution_count": 38,
     "metadata": {},
     "output_type": "execute_result"
    }
   ],
   "source": [
    "# Number of permutations of the countdown game. As mentioned before\n",
    "\n",
    "# Factorial of six.\n",
    "math.factorial(6)"
   ]
  },
  {
   "cell_type": "code",
   "execution_count": 39,
   "id": "453794b3-6e1b-47c3-be63-2dd1298d0d21",
   "metadata": {},
   "outputs": [
    {
     "data": {
      "text/plain": [
       "737280"
      ]
     },
     "execution_count": 39,
     "metadata": {},
     "output_type": "execute_result"
    }
   ],
   "source": [
    "# Times the number of combinations of five operators with replacement.\n",
    "4**5 * math.factorial(6)"
   ]
  },
  {
   "cell_type": "markdown",
   "id": "4678740a-64ee-434e-baec-fee94dc3895c",
   "metadata": {},
   "source": [
    "<br>\n",
    "\n",
    "## Partitions\n",
    "\n",
    "***"
   ]
  },
  {
   "cell_type": "code",
   "execution_count": 40,
   "id": "65bed3b6-5926-4686-8dbb-0a0768d89fa6",
   "metadata": {},
   "outputs": [],
   "source": [
    "# An example list of six numbers.\n",
    "numbers = [100, 75, 10, 4, 2, 1]"
   ]
  },
  {
   "cell_type": "code",
   "execution_count": 41,
   "id": "3310f6c8-45a5-43b5-baa3-920acf40f2b9",
   "metadata": {},
   "outputs": [],
   "source": [
    "# Give all 2-partitions of a list.\n",
    "# Where each sublist has at least one element.\n",
    "def partitions(L):\n",
    "  for i in range(1, len(L)):\n",
    "    # Slice the list using i.\n",
    "    print(L[:i], L[i:])"
   ]
  },
  {
   "cell_type": "code",
   "execution_count": 42,
   "id": "bd7deaa6-38f5-4951-a150-93e6b002d4f5",
   "metadata": {},
   "outputs": [
    {
     "name": "stdout",
     "output_type": "stream",
     "text": [
      "[100] [75, 10, 4, 2, 1]\n",
      "[100, 75] [10, 4, 2, 1]\n",
      "[100, 75, 10] [4, 2, 1]\n",
      "[100, 75, 10, 4] [2, 1]\n",
      "[100, 75, 10, 4, 2] [1]\n"
     ]
    }
   ],
   "source": [
    "# All partitions of the numbers list.\n",
    "partitions(numbers)"
   ]
  },
  {
   "cell_type": "code",
   "execution_count": 43,
   "id": "c01698b8-196e-4092-b839-f99b70ec2103",
   "metadata": {},
   "outputs": [
    {
     "name": "stdout",
     "output_type": "stream",
     "text": [
      "[75] [10, 4, 2, 1]\n",
      "[75, 10] [4, 2, 1]\n",
      "[75, 10, 4] [2, 1]\n",
      "[75, 10, 4, 2] [1]\n"
     ]
    }
   ],
   "source": [
    "# Some of the sublists in turn can be partitioned.\n",
    "partitions(numbers[1:])"
   ]
  },
  {
   "cell_type": "code",
   "execution_count": 44,
   "id": "f634601b-5de9-4ae7-a534-42b3aded3af6",
   "metadata": {},
   "outputs": [
    {
     "name": "stdout",
     "output_type": "stream",
     "text": [
      "[10] [4, 2, 1]\n",
      "[10, 4] [2, 1]\n",
      "[10, 4, 2] [1]\n"
     ]
    }
   ],
   "source": [
    "# And some of the sublists can be further (and further) parititioned>\n",
    "partitions(numbers[2:])"
   ]
  },
  {
   "cell_type": "code",
   "execution_count": 45,
   "id": "060c1a7c-c7d8-45f5-a3da-d67765d96561",
   "metadata": {},
   "outputs": [
    {
     "data": {
      "text/plain": [
       "range(0, 100000000000)"
      ]
     },
     "execution_count": 45,
     "metadata": {},
     "output_type": "execute_result"
    }
   ],
   "source": [
    "# We'll use generators in this circumstance.\n",
    "range(100000000000)"
   ]
  },
  {
   "cell_type": "code",
   "execution_count": 46,
   "id": "1149b8af-700e-4fc6-92cb-bc2be27cf06a",
   "metadata": {},
   "outputs": [],
   "source": [
    "# Give all 2-partitions of a list.\n",
    "# Where each sublist has  one element.\n",
    "def partitions(L):\n",
    "  # Check if there is no way to partition further.\n",
    "  if len(L) == 1:\n",
    "    yield f\"{L[0]}\"\n",
    "  for i in range(1, len(L)):\n",
    "    # Slice the list using i.\n",
    "    for left, right in it.product(partitions(L[:i]), partitions(L[i:])):\n",
    "      yield f\"({left} ? {right})\""
   ]
  },
  {
   "cell_type": "code",
   "execution_count": 47,
   "id": "9023a447-d5e6-4a3a-b9cf-150e0e8aec4b",
   "metadata": {},
   "outputs": [
    {
     "name": "stdout",
     "output_type": "stream",
     "text": [
      "(100 ? (75 ? (10 ? (4 ? (2 ? 1)))))\n",
      "(100 ? (75 ? (10 ? ((4 ? 2) ? 1))))\n",
      "(100 ? (75 ? ((10 ? 4) ? (2 ? 1))))\n",
      "(100 ? (75 ? ((10 ? (4 ? 2)) ? 1)))\n",
      "(100 ? (75 ? (((10 ? 4) ? 2) ? 1)))\n",
      "(100 ? ((75 ? 10) ? (4 ? (2 ? 1))))\n",
      "(100 ? ((75 ? 10) ? ((4 ? 2) ? 1)))\n",
      "(100 ? ((75 ? (10 ? 4)) ? (2 ? 1)))\n",
      "(100 ? (((75 ? 10) ? 4) ? (2 ? 1)))\n",
      "(100 ? ((75 ? (10 ? (4 ? 2))) ? 1))\n",
      "(100 ? ((75 ? ((10 ? 4) ? 2)) ? 1))\n",
      "(100 ? (((75 ? 10) ? (4 ? 2)) ? 1))\n",
      "(100 ? (((75 ? (10 ? 4)) ? 2) ? 1))\n",
      "(100 ? ((((75 ? 10) ? 4) ? 2) ? 1))\n",
      "((100 ? 75) ? (10 ? (4 ? (2 ? 1))))\n",
      "((100 ? 75) ? (10 ? ((4 ? 2) ? 1)))\n",
      "((100 ? 75) ? ((10 ? 4) ? (2 ? 1)))\n",
      "((100 ? 75) ? ((10 ? (4 ? 2)) ? 1))\n",
      "((100 ? 75) ? (((10 ? 4) ? 2) ? 1))\n",
      "((100 ? (75 ? 10)) ? (4 ? (2 ? 1)))\n",
      "((100 ? (75 ? 10)) ? ((4 ? 2) ? 1))\n",
      "(((100 ? 75) ? 10) ? (4 ? (2 ? 1)))\n",
      "(((100 ? 75) ? 10) ? ((4 ? 2) ? 1))\n",
      "((100 ? (75 ? (10 ? 4))) ? (2 ? 1))\n",
      "((100 ? ((75 ? 10) ? 4)) ? (2 ? 1))\n",
      "(((100 ? 75) ? (10 ? 4)) ? (2 ? 1))\n",
      "(((100 ? (75 ? 10)) ? 4) ? (2 ? 1))\n",
      "((((100 ? 75) ? 10) ? 4) ? (2 ? 1))\n",
      "((100 ? (75 ? (10 ? (4 ? 2)))) ? 1)\n",
      "((100 ? (75 ? ((10 ? 4) ? 2))) ? 1)\n",
      "((100 ? ((75 ? 10) ? (4 ? 2))) ? 1)\n",
      "((100 ? ((75 ? (10 ? 4)) ? 2)) ? 1)\n",
      "((100 ? (((75 ? 10) ? 4) ? 2)) ? 1)\n",
      "(((100 ? 75) ? (10 ? (4 ? 2))) ? 1)\n",
      "(((100 ? 75) ? ((10 ? 4) ? 2)) ? 1)\n",
      "(((100 ? (75 ? 10)) ? (4 ? 2)) ? 1)\n",
      "((((100 ? 75) ? 10) ? (4 ? 2)) ? 1)\n",
      "(((100 ? (75 ? (10 ? 4))) ? 2) ? 1)\n",
      "(((100 ? ((75 ? 10) ? 4)) ? 2) ? 1)\n",
      "((((100 ? 75) ? (10 ? 4)) ? 2) ? 1)\n",
      "((((100 ? (75 ? 10)) ? 4) ? 2) ? 1)\n",
      "(((((100 ? 75) ? 10) ? 4) ? 2) ? 1)\n",
      "\n",
      "The total is:  42\n"
     ]
    }
   ],
   "source": [
    "# Set total to 0\n",
    "total = 0\n",
    "\n",
    "# Go through partitions of numbers\n",
    "for i in partitions(numbers):\n",
    "    print(i)\n",
    "    total = total + 1\n",
    "\n",
    "# Print out the total\n",
    "print(\"\\nThe total is: \", total)"
   ]
  },
  {
   "cell_type": "code",
   "execution_count": 48,
   "id": "26dc725c-dc72-4a96-b914-0dfa3f0b7486",
   "metadata": {},
   "outputs": [
    {
     "data": {
      "text/plain": [
       "165"
      ]
     },
     "execution_count": 48,
     "metadata": {},
     "output_type": "execute_result"
    }
   ],
   "source": [
    "# Example of ((100 ? 75) ? (10 ? (4 ? (2 ? 1)))).\n",
    "((100 + 75) - (10 * (4 - (2 + 1))))"
   ]
  },
  {
   "cell_type": "code",
   "execution_count": 49,
   "id": "e52d3502-a961-4f4f-af03-20e513b858e1",
   "metadata": {},
   "outputs": [],
   "source": [
    "# Give all 2-partitions of a list.\n",
    "# Where each sublist has one element.\n",
    "def patterns(numbers, operators):\n",
    "  # Check if there is no way to partition further.\n",
    "  if len(numbers) == 1:\n",
    "    yield numbers[0]\n",
    "  # Loop through all the ways to partition L into two non-empty sublists.\n",
    "  for i in range(1, len(numbers)):\n",
    "    # Slice the list using i.\n",
    "    for left, right in it.product(patterns(numbers[:i], operators[1:i]), patterns(numbers[i:], operators[i:])):\n",
    "      # Yield the next operator applied to the sublists.\n",
    "      yield f'({left} {operators[0]} {right})' #[left, operators[0], right]"
   ]
  },
  {
   "cell_type": "code",
   "execution_count": 50,
   "id": "060657f4-85fb-41fc-aed2-963e28b408ce",
   "metadata": {},
   "outputs": [],
   "source": [
    "# An example list of six numbers.\n",
    "numbers = [100, 75, 10, 4, 2, 1]\n",
    "\n",
    "# Example operators.\n",
    "# operators = [operator.add, operator.mul, operator.sub, operator.add, operator.add]\n",
    "operators = ['+', '*', '-', '+', '+']"
   ]
  },
  {
   "cell_type": "code",
   "execution_count": 51,
   "id": "a50e9dc7-75fa-462c-9e9d-4183eb087d22",
   "metadata": {},
   "outputs": [
    {
     "name": "stdout",
     "output_type": "stream",
     "text": [
      "(100 + (75 * (10 - (4 + (2 + 1))))) = 325\n",
      "(100 + (75 * (10 - ((4 + 2) + 1)))) = 325\n",
      "(100 + (75 * ((10 + 4) - (2 + 1)))) = 925\n",
      "(100 + (75 * ((10 + (4 + 2)) - 1))) = 1225\n",
      "(100 + (75 * (((10 + 4) + 2) - 1))) = 1225\n",
      "(100 + ((75 - 10) * (4 + (2 + 1)))) = 555\n",
      "(100 + ((75 - 10) * ((4 + 2) + 1))) = 555\n",
      "(100 + ((75 - (10 + 4)) * (2 + 1))) = 283\n",
      "(100 + (((75 + 10) - 4) * (2 + 1))) = 343\n",
      "(100 + ((75 - (10 + (4 + 2))) * 1)) = 159\n",
      "(100 + ((75 - ((10 + 4) + 2)) * 1)) = 159\n",
      "(100 + (((75 + 10) - (4 + 2)) * 1)) = 179\n",
      "(100 + (((75 + (10 + 4)) - 2) * 1)) = 187\n",
      "(100 + ((((75 + 10) + 4) - 2) * 1)) = 187\n",
      "((100 * 75) + (10 - (4 + (2 + 1)))) = 7503\n",
      "((100 * 75) + (10 - ((4 + 2) + 1))) = 7503\n",
      "((100 * 75) + ((10 + 4) - (2 + 1))) = 7511\n",
      "((100 * 75) + ((10 + (4 + 2)) - 1)) = 7515\n",
      "((100 * 75) + (((10 + 4) + 2) - 1)) = 7515\n",
      "((100 * (75 - 10)) + (4 + (2 + 1))) = 6507\n",
      "((100 * (75 - 10)) + ((4 + 2) + 1)) = 6507\n",
      "(((100 - 75) * 10) + (4 + (2 + 1))) = 257\n",
      "(((100 - 75) * 10) + ((4 + 2) + 1)) = 257\n",
      "((100 * (75 - (10 + 4))) + (2 + 1)) = 6103\n",
      "((100 * ((75 + 10) - 4)) + (2 + 1)) = 8103\n",
      "(((100 - 75) * (10 + 4)) + (2 + 1)) = 353\n",
      "(((100 - (75 + 10)) * 4) + (2 + 1)) = 63\n",
      "((((100 + 75) - 10) * 4) + (2 + 1)) = 663\n",
      "((100 * (75 - (10 + (4 + 2)))) + 1) = 5901\n",
      "((100 * (75 - ((10 + 4) + 2))) + 1) = 5901\n",
      "((100 * ((75 + 10) - (4 + 2))) + 1) = 7901\n",
      "((100 * ((75 + (10 + 4)) - 2)) + 1) = 8701\n",
      "((100 * (((75 + 10) + 4) - 2)) + 1) = 8701\n",
      "(((100 - 75) * (10 + (4 + 2))) + 1) = 401\n",
      "(((100 - 75) * ((10 + 4) + 2)) + 1) = 401\n",
      "(((100 - (75 + 10)) * (4 + 2)) + 1) = 91\n",
      "((((100 + 75) - 10) * (4 + 2)) + 1) = 991\n",
      "(((100 - (75 + (10 + 4))) * 2) + 1) = 23\n",
      "(((100 - ((75 + 10) + 4)) * 2) + 1) = 23\n",
      "((((100 + 75) - (10 + 4)) * 2) + 1) = 323\n",
      "((((100 + (75 + 10)) - 4) * 2) + 1) = 363\n",
      "(((((100 + 75) + 10) - 4) * 2) + 1) = 363\n"
     ]
    }
   ],
   "source": [
    "# Using eval, which mightn't be great.\n",
    "for i in patterns(numbers, operators):\n",
    "  print(f'{i} = {eval(i)}')"
   ]
  },
  {
   "cell_type": "markdown",
   "id": "888df327-e386-40e9-806e-c3e41695f483",
   "metadata": {},
   "source": [
    "<br>\n",
    "\n",
    "## Reverse Polish Notation and Patterns\n",
    "\n",
    "***"
   ]
  },
  {
   "cell_type": "code",
   "execution_count": 52,
   "id": "9043680e-59cc-4b36-8a3a-3c629a5cdfd6",
   "metadata": {},
   "outputs": [],
   "source": [
    "# Give all 2-partitions of a list.\n",
    "# Where each sublist has one element.\n",
    "def patterns(numbers, operators):\n",
    "  # Check if there is no way to partition further.\n",
    "  if len(numbers) == 1:\n",
    "    yield numbers\n",
    "  # Loop through all the ways to partition L into two non-empty sublists.\n",
    "  for i in range(1, len(numbers)):\n",
    "    # Slice the list using i.\n",
    "    for left, right in it.product(patterns(numbers[:i], operators[1:i]), patterns(numbers[i:], operators[i:])):\n",
    "      # Yield the next operator applied to the sublists.\n",
    "      yield [*left, *right, operators[0]]"
   ]
  },
  {
   "cell_type": "code",
   "execution_count": 53,
   "id": "a6189e99-af13-4046-80e3-c2509296c76d",
   "metadata": {},
   "outputs": [
    {
     "name": "stdout",
     "output_type": "stream",
     "text": [
      "[100, 75, 10, 4, 2, 1, '+', '+', '-', '*', '+']\n",
      "[100, 75, 10, 4, 2, '+', 1, '+', '-', '*', '+']\n",
      "[100, 75, 10, 4, '+', 2, 1, '+', '-', '*', '+']\n",
      "[100, 75, 10, 4, 2, '+', '+', 1, '-', '*', '+']\n",
      "[100, 75, 10, 4, '+', 2, '+', 1, '-', '*', '+']\n",
      "[100, 75, 10, '-', 4, 2, 1, '+', '+', '*', '+']\n",
      "[100, 75, 10, '-', 4, 2, '+', 1, '+', '*', '+']\n",
      "[100, 75, 10, 4, '+', '-', 2, 1, '+', '*', '+']\n",
      "[100, 75, 10, '+', 4, '-', 2, 1, '+', '*', '+']\n",
      "[100, 75, 10, 4, 2, '+', '+', '-', 1, '*', '+']\n",
      "[100, 75, 10, 4, '+', 2, '+', '-', 1, '*', '+']\n",
      "[100, 75, 10, '+', 4, 2, '+', '-', 1, '*', '+']\n",
      "[100, 75, 10, 4, '+', '+', 2, '-', 1, '*', '+']\n",
      "[100, 75, 10, '+', 4, '+', 2, '-', 1, '*', '+']\n",
      "[100, 75, '*', 10, 4, 2, 1, '+', '+', '-', '+']\n",
      "[100, 75, '*', 10, 4, 2, '+', 1, '+', '-', '+']\n",
      "[100, 75, '*', 10, 4, '+', 2, 1, '+', '-', '+']\n",
      "[100, 75, '*', 10, 4, 2, '+', '+', 1, '-', '+']\n",
      "[100, 75, '*', 10, 4, '+', 2, '+', 1, '-', '+']\n",
      "[100, 75, 10, '-', '*', 4, 2, 1, '+', '+', '+']\n",
      "[100, 75, 10, '-', '*', 4, 2, '+', 1, '+', '+']\n",
      "[100, 75, '-', 10, '*', 4, 2, 1, '+', '+', '+']\n",
      "[100, 75, '-', 10, '*', 4, 2, '+', 1, '+', '+']\n",
      "[100, 75, 10, 4, '+', '-', '*', 2, 1, '+', '+']\n",
      "[100, 75, 10, '+', 4, '-', '*', 2, 1, '+', '+']\n",
      "[100, 75, '-', 10, 4, '+', '*', 2, 1, '+', '+']\n",
      "[100, 75, 10, '+', '-', 4, '*', 2, 1, '+', '+']\n",
      "[100, 75, '+', 10, '-', 4, '*', 2, 1, '+', '+']\n",
      "[100, 75, 10, 4, 2, '+', '+', '-', '*', 1, '+']\n",
      "[100, 75, 10, 4, '+', 2, '+', '-', '*', 1, '+']\n",
      "[100, 75, 10, '+', 4, 2, '+', '-', '*', 1, '+']\n",
      "[100, 75, 10, 4, '+', '+', 2, '-', '*', 1, '+']\n",
      "[100, 75, 10, '+', 4, '+', 2, '-', '*', 1, '+']\n",
      "[100, 75, '-', 10, 4, 2, '+', '+', '*', 1, '+']\n",
      "[100, 75, '-', 10, 4, '+', 2, '+', '*', 1, '+']\n",
      "[100, 75, 10, '+', '-', 4, 2, '+', '*', 1, '+']\n",
      "[100, 75, '+', 10, '-', 4, 2, '+', '*', 1, '+']\n",
      "[100, 75, 10, 4, '+', '+', '-', 2, '*', 1, '+']\n",
      "[100, 75, 10, '+', 4, '+', '-', 2, '*', 1, '+']\n",
      "[100, 75, '+', 10, 4, '+', '-', 2, '*', 1, '+']\n",
      "[100, 75, 10, '+', '+', 4, '-', 2, '*', 1, '+']\n",
      "[100, 75, '+', 10, '+', 4, '-', 2, '*', 1, '+']\n"
     ]
    }
   ],
   "source": [
    "# An example list of six numbers.\n",
    "numbers = [100, 75, 10, 4, 2, 1]\n",
    "# Example operators.\n",
    "# operators = [operator.add, operator.mul, operator.sub, operator.add, operator.add]\n",
    "operators = ['+', '*', '-', '+', '+']\n",
    "# Using eval, which mightn't be great.\n",
    "for i in patterns(numbers, operators):\n",
    "  print(i)"
   ]
  },
  {
   "cell_type": "code",
   "execution_count": 54,
   "id": "e3eb6b3d-6a6a-4027-b669-4eae184a10a5",
   "metadata": {},
   "outputs": [
    {
     "name": "stdout",
     "output_type": "stream",
     "text": [
      "[100, 75, 10, 4, 2, 1, <built-in function add>, <built-in function add>, <built-in function sub>, <built-in function mul>, <built-in function add>]\n",
      "[100, 75, 10, 4, 2, <built-in function add>, 1, <built-in function add>, <built-in function sub>, <built-in function mul>, <built-in function add>]\n",
      "[100, 75, 10, 4, <built-in function add>, 2, 1, <built-in function add>, <built-in function sub>, <built-in function mul>, <built-in function add>]\n",
      "[100, 75, 10, 4, 2, <built-in function add>, <built-in function add>, 1, <built-in function sub>, <built-in function mul>, <built-in function add>]\n",
      "[100, 75, 10, 4, <built-in function add>, 2, <built-in function add>, 1, <built-in function sub>, <built-in function mul>, <built-in function add>]\n",
      "[100, 75, 10, <built-in function sub>, 4, 2, 1, <built-in function add>, <built-in function add>, <built-in function mul>, <built-in function add>]\n",
      "[100, 75, 10, <built-in function sub>, 4, 2, <built-in function add>, 1, <built-in function add>, <built-in function mul>, <built-in function add>]\n",
      "[100, 75, 10, 4, <built-in function add>, <built-in function sub>, 2, 1, <built-in function add>, <built-in function mul>, <built-in function add>]\n",
      "[100, 75, 10, <built-in function add>, 4, <built-in function sub>, 2, 1, <built-in function add>, <built-in function mul>, <built-in function add>]\n",
      "[100, 75, 10, 4, 2, <built-in function add>, <built-in function add>, <built-in function sub>, 1, <built-in function mul>, <built-in function add>]\n",
      "[100, 75, 10, 4, <built-in function add>, 2, <built-in function add>, <built-in function sub>, 1, <built-in function mul>, <built-in function add>]\n",
      "[100, 75, 10, <built-in function add>, 4, 2, <built-in function add>, <built-in function sub>, 1, <built-in function mul>, <built-in function add>]\n",
      "[100, 75, 10, 4, <built-in function add>, <built-in function add>, 2, <built-in function sub>, 1, <built-in function mul>, <built-in function add>]\n",
      "[100, 75, 10, <built-in function add>, 4, <built-in function add>, 2, <built-in function sub>, 1, <built-in function mul>, <built-in function add>]\n",
      "[100, 75, <built-in function mul>, 10, 4, 2, 1, <built-in function add>, <built-in function add>, <built-in function sub>, <built-in function add>]\n",
      "[100, 75, <built-in function mul>, 10, 4, 2, <built-in function add>, 1, <built-in function add>, <built-in function sub>, <built-in function add>]\n",
      "[100, 75, <built-in function mul>, 10, 4, <built-in function add>, 2, 1, <built-in function add>, <built-in function sub>, <built-in function add>]\n",
      "[100, 75, <built-in function mul>, 10, 4, 2, <built-in function add>, <built-in function add>, 1, <built-in function sub>, <built-in function add>]\n",
      "[100, 75, <built-in function mul>, 10, 4, <built-in function add>, 2, <built-in function add>, 1, <built-in function sub>, <built-in function add>]\n",
      "[100, 75, 10, <built-in function sub>, <built-in function mul>, 4, 2, 1, <built-in function add>, <built-in function add>, <built-in function add>]\n",
      "[100, 75, 10, <built-in function sub>, <built-in function mul>, 4, 2, <built-in function add>, 1, <built-in function add>, <built-in function add>]\n",
      "[100, 75, <built-in function sub>, 10, <built-in function mul>, 4, 2, 1, <built-in function add>, <built-in function add>, <built-in function add>]\n",
      "[100, 75, <built-in function sub>, 10, <built-in function mul>, 4, 2, <built-in function add>, 1, <built-in function add>, <built-in function add>]\n",
      "[100, 75, 10, 4, <built-in function add>, <built-in function sub>, <built-in function mul>, 2, 1, <built-in function add>, <built-in function add>]\n",
      "[100, 75, 10, <built-in function add>, 4, <built-in function sub>, <built-in function mul>, 2, 1, <built-in function add>, <built-in function add>]\n",
      "[100, 75, <built-in function sub>, 10, 4, <built-in function add>, <built-in function mul>, 2, 1, <built-in function add>, <built-in function add>]\n",
      "[100, 75, 10, <built-in function add>, <built-in function sub>, 4, <built-in function mul>, 2, 1, <built-in function add>, <built-in function add>]\n",
      "[100, 75, <built-in function add>, 10, <built-in function sub>, 4, <built-in function mul>, 2, 1, <built-in function add>, <built-in function add>]\n",
      "[100, 75, 10, 4, 2, <built-in function add>, <built-in function add>, <built-in function sub>, <built-in function mul>, 1, <built-in function add>]\n",
      "[100, 75, 10, 4, <built-in function add>, 2, <built-in function add>, <built-in function sub>, <built-in function mul>, 1, <built-in function add>]\n",
      "[100, 75, 10, <built-in function add>, 4, 2, <built-in function add>, <built-in function sub>, <built-in function mul>, 1, <built-in function add>]\n",
      "[100, 75, 10, 4, <built-in function add>, <built-in function add>, 2, <built-in function sub>, <built-in function mul>, 1, <built-in function add>]\n",
      "[100, 75, 10, <built-in function add>, 4, <built-in function add>, 2, <built-in function sub>, <built-in function mul>, 1, <built-in function add>]\n",
      "[100, 75, <built-in function sub>, 10, 4, 2, <built-in function add>, <built-in function add>, <built-in function mul>, 1, <built-in function add>]\n",
      "[100, 75, <built-in function sub>, 10, 4, <built-in function add>, 2, <built-in function add>, <built-in function mul>, 1, <built-in function add>]\n",
      "[100, 75, 10, <built-in function add>, <built-in function sub>, 4, 2, <built-in function add>, <built-in function mul>, 1, <built-in function add>]\n",
      "[100, 75, <built-in function add>, 10, <built-in function sub>, 4, 2, <built-in function add>, <built-in function mul>, 1, <built-in function add>]\n",
      "[100, 75, 10, 4, <built-in function add>, <built-in function add>, <built-in function sub>, 2, <built-in function mul>, 1, <built-in function add>]\n",
      "[100, 75, 10, <built-in function add>, 4, <built-in function add>, <built-in function sub>, 2, <built-in function mul>, 1, <built-in function add>]\n",
      "[100, 75, <built-in function add>, 10, 4, <built-in function add>, <built-in function sub>, 2, <built-in function mul>, 1, <built-in function add>]\n",
      "[100, 75, 10, <built-in function add>, <built-in function add>, 4, <built-in function sub>, 2, <built-in function mul>, 1, <built-in function add>]\n",
      "[100, 75, <built-in function add>, 10, <built-in function add>, 4, <built-in function sub>, 2, <built-in function mul>, 1, <built-in function add>]\n"
     ]
    }
   ],
   "source": [
    "# An example list of six numbers.\n",
    "numbers = [100, 75, 10, 4, 2, 1]\n",
    "# Example operators.\n",
    "operators = [operator.add, operator.mul, operator.sub, operator.add, operator.add]\n",
    "# operators = ['+', '*', '-', '+', '+']\n",
    "# Using eval, which mightn't be great.\n",
    "for i in patterns(numbers, operators):\n",
    "  print(i)"
   ]
  },
  {
   "cell_type": "code",
   "execution_count": 55,
   "id": "6a426221-6590-4348-8c0b-05e819ee2296",
   "metadata": {},
   "outputs": [],
   "source": [
    "# Evaluate Reverse Polish Notation expression.\n",
    "def eval_rpn(rpn):\n",
    "  # A stack.\n",
    "  stack = []\n",
    "  # Loop through rpn an item at a time.\n",
    "  for i in rpn:\n",
    "    # Check if it's a number.\n",
    "    if isinstance(i, int):\n",
    "      # Append to the stack.\n",
    "      stack = stack + [i]\n",
    "    else:\n",
    "      # Pop from stack twice.\n",
    "      right = stack[-1]\n",
    "      stack = stack[:-1]\n",
    "      left = stack[-1]\n",
    "      stack = stack[:-1]\n",
    "      # Push operator applied to stack elements.\n",
    "      stack = stack + [i(left, right)]\n",
    "  # Should only be one item on stack.\n",
    "  return stack[0]"
   ]
  },
  {
   "cell_type": "code",
   "execution_count": 56,
   "id": "cb4c10e5-f92f-4e56-a8e1-a0f732b79a89",
   "metadata": {},
   "outputs": [
    {
     "name": "stdout",
     "output_type": "stream",
     "text": [
      "325 [100, 75, 10, 4, 2, 1, <built-in function add>, <built-in function add>, <built-in function sub>, <built-in function mul>, <built-in function add>]\n",
      "325 [100, 75, 10, 4, 2, <built-in function add>, 1, <built-in function add>, <built-in function sub>, <built-in function mul>, <built-in function add>]\n",
      "925 [100, 75, 10, 4, <built-in function add>, 2, 1, <built-in function add>, <built-in function sub>, <built-in function mul>, <built-in function add>]\n",
      "1225 [100, 75, 10, 4, 2, <built-in function add>, <built-in function add>, 1, <built-in function sub>, <built-in function mul>, <built-in function add>]\n",
      "1225 [100, 75, 10, 4, <built-in function add>, 2, <built-in function add>, 1, <built-in function sub>, <built-in function mul>, <built-in function add>]\n",
      "555 [100, 75, 10, <built-in function sub>, 4, 2, 1, <built-in function add>, <built-in function add>, <built-in function mul>, <built-in function add>]\n",
      "555 [100, 75, 10, <built-in function sub>, 4, 2, <built-in function add>, 1, <built-in function add>, <built-in function mul>, <built-in function add>]\n",
      "283 [100, 75, 10, 4, <built-in function add>, <built-in function sub>, 2, 1, <built-in function add>, <built-in function mul>, <built-in function add>]\n",
      "343 [100, 75, 10, <built-in function add>, 4, <built-in function sub>, 2, 1, <built-in function add>, <built-in function mul>, <built-in function add>]\n",
      "159 [100, 75, 10, 4, 2, <built-in function add>, <built-in function add>, <built-in function sub>, 1, <built-in function mul>, <built-in function add>]\n",
      "159 [100, 75, 10, 4, <built-in function add>, 2, <built-in function add>, <built-in function sub>, 1, <built-in function mul>, <built-in function add>]\n",
      "179 [100, 75, 10, <built-in function add>, 4, 2, <built-in function add>, <built-in function sub>, 1, <built-in function mul>, <built-in function add>]\n",
      "187 [100, 75, 10, 4, <built-in function add>, <built-in function add>, 2, <built-in function sub>, 1, <built-in function mul>, <built-in function add>]\n",
      "187 [100, 75, 10, <built-in function add>, 4, <built-in function add>, 2, <built-in function sub>, 1, <built-in function mul>, <built-in function add>]\n",
      "7503 [100, 75, <built-in function mul>, 10, 4, 2, 1, <built-in function add>, <built-in function add>, <built-in function sub>, <built-in function add>]\n",
      "7503 [100, 75, <built-in function mul>, 10, 4, 2, <built-in function add>, 1, <built-in function add>, <built-in function sub>, <built-in function add>]\n",
      "7511 [100, 75, <built-in function mul>, 10, 4, <built-in function add>, 2, 1, <built-in function add>, <built-in function sub>, <built-in function add>]\n",
      "7515 [100, 75, <built-in function mul>, 10, 4, 2, <built-in function add>, <built-in function add>, 1, <built-in function sub>, <built-in function add>]\n",
      "7515 [100, 75, <built-in function mul>, 10, 4, <built-in function add>, 2, <built-in function add>, 1, <built-in function sub>, <built-in function add>]\n",
      "6507 [100, 75, 10, <built-in function sub>, <built-in function mul>, 4, 2, 1, <built-in function add>, <built-in function add>, <built-in function add>]\n",
      "6507 [100, 75, 10, <built-in function sub>, <built-in function mul>, 4, 2, <built-in function add>, 1, <built-in function add>, <built-in function add>]\n",
      "257 [100, 75, <built-in function sub>, 10, <built-in function mul>, 4, 2, 1, <built-in function add>, <built-in function add>, <built-in function add>]\n",
      "257 [100, 75, <built-in function sub>, 10, <built-in function mul>, 4, 2, <built-in function add>, 1, <built-in function add>, <built-in function add>]\n",
      "6103 [100, 75, 10, 4, <built-in function add>, <built-in function sub>, <built-in function mul>, 2, 1, <built-in function add>, <built-in function add>]\n",
      "8103 [100, 75, 10, <built-in function add>, 4, <built-in function sub>, <built-in function mul>, 2, 1, <built-in function add>, <built-in function add>]\n",
      "353 [100, 75, <built-in function sub>, 10, 4, <built-in function add>, <built-in function mul>, 2, 1, <built-in function add>, <built-in function add>]\n",
      "63 [100, 75, 10, <built-in function add>, <built-in function sub>, 4, <built-in function mul>, 2, 1, <built-in function add>, <built-in function add>]\n",
      "663 [100, 75, <built-in function add>, 10, <built-in function sub>, 4, <built-in function mul>, 2, 1, <built-in function add>, <built-in function add>]\n",
      "5901 [100, 75, 10, 4, 2, <built-in function add>, <built-in function add>, <built-in function sub>, <built-in function mul>, 1, <built-in function add>]\n",
      "5901 [100, 75, 10, 4, <built-in function add>, 2, <built-in function add>, <built-in function sub>, <built-in function mul>, 1, <built-in function add>]\n",
      "7901 [100, 75, 10, <built-in function add>, 4, 2, <built-in function add>, <built-in function sub>, <built-in function mul>, 1, <built-in function add>]\n",
      "8701 [100, 75, 10, 4, <built-in function add>, <built-in function add>, 2, <built-in function sub>, <built-in function mul>, 1, <built-in function add>]\n",
      "8701 [100, 75, 10, <built-in function add>, 4, <built-in function add>, 2, <built-in function sub>, <built-in function mul>, 1, <built-in function add>]\n",
      "401 [100, 75, <built-in function sub>, 10, 4, 2, <built-in function add>, <built-in function add>, <built-in function mul>, 1, <built-in function add>]\n",
      "401 [100, 75, <built-in function sub>, 10, 4, <built-in function add>, 2, <built-in function add>, <built-in function mul>, 1, <built-in function add>]\n",
      "91 [100, 75, 10, <built-in function add>, <built-in function sub>, 4, 2, <built-in function add>, <built-in function mul>, 1, <built-in function add>]\n",
      "991 [100, 75, <built-in function add>, 10, <built-in function sub>, 4, 2, <built-in function add>, <built-in function mul>, 1, <built-in function add>]\n",
      "23 [100, 75, 10, 4, <built-in function add>, <built-in function add>, <built-in function sub>, 2, <built-in function mul>, 1, <built-in function add>]\n",
      "23 [100, 75, 10, <built-in function add>, 4, <built-in function add>, <built-in function sub>, 2, <built-in function mul>, 1, <built-in function add>]\n",
      "323 [100, 75, <built-in function add>, 10, 4, <built-in function add>, <built-in function sub>, 2, <built-in function mul>, 1, <built-in function add>]\n",
      "363 [100, 75, 10, <built-in function add>, <built-in function add>, 4, <built-in function sub>, 2, <built-in function mul>, 1, <built-in function add>]\n",
      "363 [100, 75, <built-in function add>, 10, <built-in function add>, 4, <built-in function sub>, 2, <built-in function mul>, 1, <built-in function add>]\n"
     ]
    }
   ],
   "source": [
    "# An example list of six numbers.\n",
    "numbers = [100, 75, 10, 4, 2, 1]\n",
    "\n",
    "# Example operators.\n",
    "operators = [operator.add, operator.mul, operator.sub, operator.add, operator.add]\n",
    "\n",
    "# Using eval, which mightn't be great.\n",
    "for i in patterns(numbers, operators):\n",
    "  print(eval_rpn(i), i)"
   ]
  },
  {
   "cell_type": "markdown",
   "id": "d29d4289-27c7-4aaf-9d59-6694badeb488",
   "metadata": {},
   "source": [
    "<br>\n",
    "\n",
    "## Functional Programming\n",
    "\n",
    "***"
   ]
  },
  {
   "cell_type": "markdown",
   "id": "c8a5e08e-3885-4a9d-b5a1-537b4c2a3aea",
   "metadata": {},
   "source": [
    "### What is Functional Programming?"
   ]
  },
  {
   "cell_type": "markdown",
   "id": "40f9e641-8dcc-450f-9e1d-f0e32c625ce5",
   "metadata": {},
   "source": [
    "Functional Programming is the programming paradigm. It is how programs are constructed by the application and composition of functions."
   ]
  },
  {
   "cell_type": "markdown",
   "id": "a486285b-4a5a-4834-a56d-dcdc6a19c879",
   "metadata": {},
   "source": [
    "<br>\n",
    "\n",
    "### Concepts of Functional Programming"
   ]
  },
  {
   "cell_type": "markdown",
   "id": "beca4a93-1ec0-43fb-a1c9-030638ba2cf9",
   "metadata": {},
   "source": [
    "**Recursion** - It is the looping of functions. Recursive functions invoke themselves, which leads to same parts of the code being repeated until some kind of a stop is reached. Recursion requires to maintain a stack which in turn consumes space in linear amount to depth.\n",
    "\n",
    "**Pure Functions** - These functions have no side effects and have many useful properties, these include:\n",
    "- If these functions are called with arguments it causes no side effects and the results are constant.\n",
    "- If the language does not allow side effects, then in this case any of the evaluation strategies can be used which gives the compiler freedom to reorder or combine expressions in the program."
   ]
  },
  {
   "cell_type": "markdown",
   "id": "74fe1752-93fc-4891-be40-45b696bbceb0",
   "metadata": {},
   "source": [
    "<br>\n",
    "\n",
    "### Uses of Functional Programming"
   ]
  },
  {
   "cell_type": "markdown",
   "id": "db811ac8-4326-42e3-b708-821f96bc83d3",
   "metadata": {},
   "source": [
    "**Industry** - It is seen to be used in the industry, even by some large tech companies like Ericsson, which developed the Erland.\n",
    "\n",
    "**Education** - There are still many universities that teach or have taught functional programming as part of their Computer Science courses."
   ]
  },
  {
   "cell_type": "markdown",
   "id": "492a1f10-0066-433c-ae9c-e5f3799fdfb1",
   "metadata": {},
   "source": [
    "<br>\n",
    "\n",
    "### How was Functional Programming used in this Notebook?"
   ]
  },
  {
   "cell_type": "markdown",
   "id": "c4a69419-ac5e-4095-bcbb-f7478b255f2c",
   "metadata": {},
   "source": [
    "There have been many ways presented in this notebook where Functional Programming has been used. These include the following:"
   ]
  },
  {
   "cell_type": "markdown",
   "id": "ca79a428-8c2e-477e-a80d-29b096bc8a1c",
   "metadata": {},
   "source": [
    "- Use of functions like, **len()** and **range()** which are functions in Python that are already **built-in**. These functions allow for easier development, as they give us some **quick and easy** to use functions which are very simple but important and useful to use. For example, len() gives us the length.\n",
    "\n",
    "- The use of calling functions as variables. This allows for no side effects, as functions cannot be changed as variables in any part of the code. Therefore this approach is very safe and functional.\n",
    "\n",
    "**A snippet of code from this notebook - play_nos = large_random() + small_random()**"
   ]
  },
  {
   "cell_type": "markdown",
   "id": "d98fd067-a30d-4d41-9a3c-649028c97c2e",
   "metadata": {},
   "source": [
    "<br>\n",
    "\n",
    "***\n",
    "\n",
    "<br>\n",
    "\n",
    "# References\n"
   ]
  },
  {
   "cell_type": "markdown",
   "id": "c5570080-1a87-4a58-a721-c2c04f33326e",
   "metadata": {
    "tags": []
   },
   "source": [
    "### Countdown Numbers Game\n",
    "\n",
    "***"
   ]
  },
  {
   "cell_type": "markdown",
   "id": "2a2049ef-249f-498c-b491-3732d6e36b9f",
   "metadata": {
    "tags": []
   },
   "source": [
    "#### What is the Countdown Game?\n",
    "\n",
    "- https://en.wikipedia.org/wiki/Countdown_(game_show)#:~:text=The%20contestants%20have%2030%20seconds,to%20use%20all%20six%20numbers."
   ]
  },
  {
   "cell_type": "markdown",
   "id": "eb76ba33-04f0-4cdc-a4fe-f54ba9647718",
   "metadata": {
    "tags": []
   },
   "source": [
    "#### The Numbers Game\n",
    "\n",
    "- https://en.wikipedia.org/wiki/Countdown_(game_show)#:~:text=The%20contestants%20have%2030%20seconds,to%20use%20all%20six%20numbers."
   ]
  },
  {
   "cell_type": "markdown",
   "id": "c9c21b21-392d-48e1-8309-3a7d4e864d06",
   "metadata": {},
   "source": [
    "#### What is the Complexity of the Numbers Game?\n",
    "\n",
    "- https://en.wikipedia.org/wiki/Countdown_(game_show)#:~:text=The%20contestants%20have%2030%20seconds,to%20use%20all%20six%20numbers."
   ]
  },
  {
   "cell_type": "markdown",
   "id": "845827b0-3765-4b17-bd71-1e11aa4b5759",
   "metadata": {
    "tags": []
   },
   "source": [
    "#### Reverse Polish Notation\n",
    "\n",
    "- https://en.wikipedia.org/wiki/Reverse_Polish_notation\n",
    "- https://www.youtube.com/watch?v=cVMhkqPP2YI&ab_channel=Computerphile"
   ]
  },
  {
   "cell_type": "markdown",
   "id": "d7e0f144-df23-4492-8d04-d6e69dd0c591",
   "metadata": {
    "tags": []
   },
   "source": [
    "#### Permutations\n",
    "\n",
    "- https://docs.python.org/3/library/itertools.html#itertools.permutations"
   ]
  },
  {
   "cell_type": "markdown",
   "id": "55d5b8b8-16c2-4ccd-98af-245369a9cfe8",
   "metadata": {
    "tags": []
   },
   "source": [
    "#### Combinations\n",
    "\n",
    "- https://docs.python.org/3/library/itertools.html#itertools.combinations"
   ]
  },
  {
   "cell_type": "markdown",
   "id": "a03e4e85-df6d-4f56-8d67-6e018f85a5de",
   "metadata": {
    "tags": []
   },
   "source": [
    "<br>\n",
    "\n",
    "### Functional Programming\n",
    "\n",
    "***"
   ]
  },
  {
   "cell_type": "markdown",
   "id": "0116f064-cb30-4a7a-915f-3fa5100a5df3",
   "metadata": {
    "tags": []
   },
   "source": [
    "#### What is Functional Programming?\n",
    "\n",
    "- https://en.wikipedia.org/wiki/Functional_programming"
   ]
  },
  {
   "cell_type": "markdown",
   "id": "91edb2a4-1e0c-432c-a4d5-d2a967a091f1",
   "metadata": {},
   "source": [
    "<br><br>\n",
    "\n",
    "**__I have heavily relied on the Theory of Algorithms module content, created by Dr. Ian McLoughlin a lecturer in Atlantic Technological University.__**"
   ]
  },
  {
   "cell_type": "markdown",
   "id": "3f9b7022-5602-4b9e-b0a3-db20b3d8ba80",
   "metadata": {},
   "source": [
    "<br>\n",
    "\n",
    "***\n",
    "\n",
    "# END"
   ]
  }
 ],
 "metadata": {
  "kernelspec": {
   "display_name": "Python 3 (ipykernel)",
   "language": "python",
   "name": "python3"
  },
  "language_info": {
   "codemirror_mode": {
    "name": "ipython",
    "version": 3
   },
   "file_extension": ".py",
   "mimetype": "text/x-python",
   "name": "python",
   "nbconvert_exporter": "python",
   "pygments_lexer": "ipython3",
   "version": "3.9.7"
  }
 },
 "nbformat": 4,
 "nbformat_minor": 5
}
