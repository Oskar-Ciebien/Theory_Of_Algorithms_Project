{
 "cells": [
  {
   "cell_type": "markdown",
   "id": "029a6179-c8e2-44a2-8c5c-f2ebcaa6ff2a",
   "metadata": {},
   "source": [
    "# Computing with the Integers\n",
    "\n",
    "***"
   ]
  },
  {
   "cell_type": "code",
   "execution_count": 1,
   "id": "2735f206-4080-45ea-81c0-105e2fad47bd",
   "metadata": {},
   "outputs": [],
   "source": [
    "def double(i):\n",
    "    return 2 * i"
   ]
  },
  {
   "cell_type": "code",
   "execution_count": 2,
   "id": "ad9d79d8-86f2-4bbe-883d-388c2c2476f6",
   "metadata": {},
   "outputs": [],
   "source": [
    "eg_list_of_inputs = [-9, -8, -7, -6, -5, -4, -3, -2, -1, 0, 1, 2, 3, 4, 5, 6, 7, 8, 9]"
   ]
  },
  {
   "cell_type": "code",
   "execution_count": 3,
   "id": "1f946a0b-2880-4fa1-8a84-e8017eaf432d",
   "metadata": {},
   "outputs": [
    {
     "data": {
      "text/plain": [
       "[-18, -16, -14, -12, -10, -8, -6, -4, -2, 0, 2, 4, 6, 8, 10, 12, 14, 16, 18]"
      ]
     },
     "execution_count": 3,
     "metadata": {},
     "output_type": "execute_result"
    }
   ],
   "source": [
    "eg_list_of_outputs = list(map(double, eg_list_of_inputs))\n",
    "eg_list_of_outputs"
   ]
  },
  {
   "cell_type": "code",
   "execution_count": 4,
   "id": "4caccba0-09a4-4591-a82c-7fd4fd262177",
   "metadata": {},
   "outputs": [
    {
     "name": "stdout",
     "output_type": "stream",
     "text": [
      " -9 ->  -18\n",
      " -8 ->  -16\n",
      " -7 ->  -14\n",
      " -6 ->  -12\n",
      " -5 ->  -10\n",
      " -4 ->   -8\n",
      " -3 ->   -6\n",
      " -2 ->   -4\n",
      " -1 ->   -2\n",
      "  0 ->    0\n",
      "  1 ->    2\n",
      "  2 ->    4\n",
      "  3 ->    6\n",
      "  4 ->    8\n",
      "  5 ->   10\n",
      "  6 ->   12\n",
      "  7 ->   14\n",
      "  8 ->   16\n",
      "  9 ->   18\n"
     ]
    }
   ],
   "source": [
    "for i in range(-9, 10):\n",
    "    print(f'{i:3} ->  {double(i):3}')"
   ]
  },
  {
   "cell_type": "markdown",
   "id": "9ee9767e-2dd4-46ee-8244-c5002cda9fcc",
   "metadata": {},
   "source": [
    "<br>\n",
    "\n",
    "$ f: \\mathbb{z} \\rightarrow 2 \\mathbb{z}$\n",
    "\n",
    "$ \\mathbb{z} = { \\ldots, -2, -1, 0, 1, 2, \\ldots }$\n",
    "\n",
    "$ 2 \\mathbb{z} = { \\ldots, -2, 0, 2, \\ldots }$\n",
    "\n",
    "$ 2 \\mathbb{z} \\subset \\mathbb{z}$\n",
    "\n",
    "$ | \\mathbb{z} | $ is $\\aleph_0$\n",
    "\n",
    "<br>"
   ]
  },
  {
   "cell_type": "markdown",
   "id": "a4bc9502-15e0-40a2-a4ea-2e0280e35c87",
   "metadata": {},
   "source": [
    "<br>\n",
    "\n",
    "# The Integers and the Reals\n",
    "\n",
    "***"
   ]
  },
  {
   "cell_type": "code",
   "execution_count": null,
   "id": "355392c9-3272-4d09-bbac-0338768ef692",
   "metadata": {},
   "outputs": [],
   "source": []
  },
  {
   "cell_type": "code",
   "execution_count": null,
   "id": "279c9868-2b75-4f05-a93a-ca52d2696770",
   "metadata": {},
   "outputs": [],
   "source": []
  },
  {
   "cell_type": "code",
   "execution_count": null,
   "id": "0e0c301e-815d-4803-9e5d-341d72f4d7e3",
   "metadata": {},
   "outputs": [],
   "source": []
  },
  {
   "cell_type": "code",
   "execution_count": null,
   "id": "0fd42a44-c993-499a-9d51-4f420ef9a0c1",
   "metadata": {},
   "outputs": [],
   "source": []
  },
  {
   "cell_type": "code",
   "execution_count": null,
   "id": "1ec15b4b-43f6-48a0-aefd-f7d7d4d6d642",
   "metadata": {},
   "outputs": [],
   "source": []
  },
  {
   "cell_type": "code",
   "execution_count": null,
   "id": "b8c36087-f3ae-422e-89d8-ddc7847d01cd",
   "metadata": {},
   "outputs": [],
   "source": []
  },
  {
   "cell_type": "markdown",
   "id": "3f9b7022-5602-4b9e-b0a3-db20b3d8ba80",
   "metadata": {},
   "source": [
    "<br>\n",
    "\n",
    "***\n",
    "\n",
    "# END"
   ]
  },
  {
   "cell_type": "code",
   "execution_count": null,
   "id": "4f28bd14-532e-413d-9a8b-cfb59d08bb75",
   "metadata": {},
   "outputs": [],
   "source": []
  }
 ],
 "metadata": {
  "kernelspec": {
   "display_name": "Python 3 (ipykernel)",
   "language": "python",
   "name": "python3"
  },
  "language_info": {
   "codemirror_mode": {
    "name": "ipython",
    "version": 3
   },
   "file_extension": ".py",
   "mimetype": "text/x-python",
   "name": "python",
   "nbconvert_exporter": "python",
   "pygments_lexer": "ipython3",
   "version": "3.9.7"
  }
 },
 "nbformat": 4,
 "nbformat_minor": 5
}
