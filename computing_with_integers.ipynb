{
 "cells": [
  {
   "cell_type": "markdown",
   "id": "029a6179-c8e2-44a2-8c5c-f2ebcaa6ff2a",
   "metadata": {},
   "source": [
    "# Computing with the Integers\n",
    "\n",
    "***"
   ]
  },
  {
   "cell_type": "code",
   "execution_count": 1,
   "id": "2735f206-4080-45ea-81c0-105e2fad47bd",
   "metadata": {},
   "outputs": [],
   "source": [
    "def double(i):\n",
    "    return 2 * i"
   ]
  },
  {
   "cell_type": "code",
   "execution_count": 2,
   "id": "ad9d79d8-86f2-4bbe-883d-388c2c2476f6",
   "metadata": {},
   "outputs": [],
   "source": [
    "eg_list_of_inputs = [-9, -8, -7, -6, -5, -4, -3, -2, -1, 0, 1, 2, 3, 4, 5, 6, 7, 8, 9]"
   ]
  },
  {
   "cell_type": "code",
   "execution_count": 3,
   "id": "1f946a0b-2880-4fa1-8a84-e8017eaf432d",
   "metadata": {},
   "outputs": [
    {
     "data": {
      "text/plain": [
       "[-18, -16, -14, -12, -10, -8, -6, -4, -2, 0, 2, 4, 6, 8, 10, 12, 14, 16, 18]"
      ]
     },
     "execution_count": 3,
     "metadata": {},
     "output_type": "execute_result"
    }
   ],
   "source": [
    "eg_list_of_outputs = list(map(double, eg_list_of_inputs))\n",
    "eg_list_of_outputs"
   ]
  },
  {
   "cell_type": "code",
   "execution_count": 4,
   "id": "4caccba0-09a4-4591-a82c-7fd4fd262177",
   "metadata": {},
   "outputs": [
    {
     "name": "stdout",
     "output_type": "stream",
     "text": [
      " -9 ->  -18\n",
      " -8 ->  -16\n",
      " -7 ->  -14\n",
      " -6 ->  -12\n",
      " -5 ->  -10\n",
      " -4 ->   -8\n",
      " -3 ->   -6\n",
      " -2 ->   -4\n",
      " -1 ->   -2\n",
      "  0 ->    0\n",
      "  1 ->    2\n",
      "  2 ->    4\n",
      "  3 ->    6\n",
      "  4 ->    8\n",
      "  5 ->   10\n",
      "  6 ->   12\n",
      "  7 ->   14\n",
      "  8 ->   16\n",
      "  9 ->   18\n"
     ]
    }
   ],
   "source": [
    "for i in range(-9, 10):\n",
    "    print(f'{i:3} ->  {double(i):3}')"
   ]
  },
  {
   "cell_type": "markdown",
   "id": "9ee9767e-2dd4-46ee-8244-c5002cda9fcc",
   "metadata": {},
   "source": [
    "<br>\n",
    "\n",
    "$ f: \\mathbb{z} \\rightarrow 2 \\mathbb{z}$\n",
    "\n",
    "$ \\mathbb{z} = { \\ldots, -2, -1, 0, 1, 2, \\ldots }$\n",
    "\n",
    "$ 2 \\mathbb{z} = { \\ldots, -2, 0, 2, \\ldots }$\n",
    "\n",
    "$ 2 \\mathbb{z} \\subset \\mathbb{z}$\n",
    "\n",
    "$ | \\mathbb{z} | $ is $\\aleph_0$\n",
    "\n",
    "<br>"
   ]
  },
  {
   "cell_type": "markdown",
   "id": "a4bc9502-15e0-40a2-a4ea-2e0280e35c87",
   "metadata": {},
   "source": [
    "<br>\n",
    "\n",
    "# The Integers and the Reals\n",
    "\n",
    "***"
   ]
  },
  {
   "cell_type": "markdown",
   "id": "68d623ce-2557-443c-942a-bdecd7a1fde4",
   "metadata": {},
   "source": [
    "$\\mathbb{N}_0 = {0, 1, 2, 3, \\ldots}$\n",
    "\n",
    "$|\\mathbb{N}_0|$ is $\\aleph_0$\n",
    "\n",
    "$0 \\rightarrow 0$\n",
    "\n",
    "$1 \\rightarrow -1$\n",
    "\n",
    "$2 \\rightarrow 1$\n",
    "\n",
    "$3 \\rightarrow -2$\n",
    "\n",
    "$4 \\rightarrow 2$\n",
    "\n",
    "$\\ldots$"
   ]
  },
  {
   "cell_type": "code",
   "execution_count": 5,
   "id": "279c9868-2b75-4f05-a93a-ca52d2696770",
   "metadata": {},
   "outputs": [
    {
     "name": "stdout",
     "output_type": "stream",
     "text": [
      " 0 -> 0.85173579409728972234...\n",
      " 1 -> 0.86950521455577234331...\n",
      " 2 -> 0.49437084358362581860...\n",
      " 3 -> 0.04139495811327076336...\n",
      " 4 -> 0.21778092289320105657...\n",
      " 5 -> 0.02291702289621722066...\n",
      " 6 -> 0.39520306130967197689...\n",
      " 7 -> 0.30841729304548726187...\n",
      " 8 -> 0.03485569019149858949...\n",
      " 9 -> 0.88625943088612091358...\n",
      "and so on...\n"
     ]
    }
   ],
   "source": [
    "import random\n",
    "\n",
    "for n in range(10):\n",
    "    print(f'{n:2} -> {random.random():0.20f}...')\n",
    "print('and so on...')"
   ]
  },
  {
   "cell_type": "markdown",
   "id": "0bc1fe7d-1547-4426-8e46-07d9afae1c65",
   "metadata": {},
   "source": [
    "<br>\n",
    "\n",
    "<strong>0.9754981019...</strong>\n",
    "Is created by taking a number from each of the above print outs. From first statement, take the first number after the 0. and increase it by one. If the number is 9 change it back to 0 and so on."
   ]
  },
  {
   "cell_type": "markdown",
   "id": "3f9b7022-5602-4b9e-b0a3-db20b3d8ba80",
   "metadata": {},
   "source": [
    "<br>\n",
    "\n",
    "***\n",
    "\n",
    "# END"
   ]
  }
 ],
 "metadata": {
  "kernelspec": {
   "display_name": "Python 3 (ipykernel)",
   "language": "python",
   "name": "python3"
  },
  "language_info": {
   "codemirror_mode": {
    "name": "ipython",
    "version": 3
   },
   "file_extension": ".py",
   "mimetype": "text/x-python",
   "name": "python",
   "nbconvert_exporter": "python",
   "pygments_lexer": "ipython3",
   "version": "3.9.7"
  }
 },
 "nbformat": 4,
 "nbformat_minor": 5
}
